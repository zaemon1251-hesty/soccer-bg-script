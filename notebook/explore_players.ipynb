{
 "cells": [
  {
   "cell_type": "code",
   "execution_count": 1,
   "metadata": {},
   "outputs": [
    {
     "name": "stdout",
     "output_type": "stream",
     "text": [
      "/Users/heste/workspace/soccernet/sn-script\n"
     ]
    },
    {
     "data": {
      "text/plain": [
       "'/Users/heste/workspace/soccernet/sn-script'"
      ]
     },
     "execution_count": 1,
     "metadata": {},
     "output_type": "execute_result"
    }
   ],
   "source": [
    "# move to project root\n",
    "%cd ..\n",
    "%pwd"
   ]
  },
  {
   "cell_type": "code",
   "execution_count": 3,
   "metadata": {},
   "outputs": [],
   "source": [
    "import pandas as pd\n",
    "\n",
    "player_csv_path = \"database/misc/sncaption_players.csv\"\n",
    "players_df = pd.read_csv(player_csv_path)"
   ]
  },
  {
   "cell_type": "code",
   "execution_count": 4,
   "metadata": {},
   "outputs": [
    {
     "data": {
      "text/plain": [
       "game\n",
       "england_epl/2014-2015/2015-02-21 - 18-00 Chelsea 1 - 1 Burnley              36\n",
       "england_epl/2014-2015/2015-02-21 - 18-00 Crystal Palace 1 - 2 Arsenal       36\n",
       "england_epl/2014-2015/2015-02-21 - 18-00 Swansea 2 - 1 Manchester United    36\n",
       "england_epl/2014-2015/2015-02-22 - 19-15 Southampton 0 - 2 Liverpool        36\n",
       "england_epl/2014-2015/2015-04-11 - 19-30 Burnley 0 - 1 Arsenal              36\n",
       "                                                                            ..\n",
       "spain_laliga/2016-2017/2017-05-14 - 21-00 Las Palmas 1 - 4 Barcelona        36\n",
       "spain_laliga/2016-2017/2017-05-14 - 21-00 Real Madrid 4 - 1 Sevilla         36\n",
       "spain_laliga/2016-2017/2017-05-17 - 22-00 Celta Vigo 1 - 4 Real Madrid      36\n",
       "spain_laliga/2016-2017/2017-05-21 - 21-00 Barcelona 4 - 2 Eibar             36\n",
       "spain_laliga/2016-2017/2017-05-21 - 21-00 Malaga 0 - 2 Real Madrid          36\n",
       "Length: 471, dtype: int64"
      ]
     },
     "execution_count": 4,
     "metadata": {},
     "output_type": "execute_result"
    }
   ],
   "source": [
    "# 471 games\n",
    "players_df.groupby(\"game\").size()"
   ]
  },
  {
   "cell_type": "code",
   "execution_count": 5,
   "metadata": {},
   "outputs": [
    {
     "name": "stdout",
     "output_type": "stream",
     "text": [
      "Player name: Adama Traore, Unique hashes: ['Igxkp0vJ', 'Qsy3Kmgj']\n",
      "Player name: Adrian, Unique hashes: ['nTxpOTze', 'CEm70uDg', 'xnksl1Xb']\n",
      "Player name: Alvaro Gonzalez, Unique hashes: ['4ScdNNhe', 'SUOndFiR']\n",
      "Player name: Bernardo, Unique hashes: ['4j2lRKqG', 'MwxzFrgA']\n",
      "Player name: Bruno Henrique, Unique hashes: ['xQn53kv6', 'Es2sDoRF']\n",
      "Player name: Carlos Carmona, Unique hashes: ['hv5DShRR', 'v1Ync0zm']\n",
      "Player name: Danilo, Unique hashes: ['KUjvgUhB', 'jZymq44F', '2aAFmtDN']\n",
      "Player name: David Garcia, Unique hashes: ['nTFvUo9N', 'h6OUyZ6b']\n",
      "Player name: Eder, Unique hashes: ['Q3BCZbub', 'zscUlfQN']\n",
      "Player name: Eduardo, Unique hashes: ['IeavP2fU', 'fVXVWRYt']\n",
      "Player name: Fernando, Unique hashes: ['rJlzoALP', '6yhz9T74']\n",
      "Player name: Gabriel, Unique hashes: ['29ORgAw5', 'vHBRBWUr']\n",
      "Player name: Juan Rodriguez, Unique hashes: ['WEXKmmr4', 'pWspEUPF']\n",
      "Player name: Juanfran, Unique hashes: ['jLwtE6Rq', 'ppSBkixR', 'Ye9cRhZ7']\n",
      "Player name: Maicon, Unique hashes: ['2kr0nEaK', 'GxMRcf1E']\n",
      "Player name: Manu Garcia, Unique hashes: ['4pQawjUd', 'hzhqN3QQ']\n",
      "Player name: Marcelo, Unique hashes: ['zmAm2AEH', 'hfN9pT8t']\n",
      "Player name: Naldo, Unique hashes: ['tUG5PT7s', 'hrrTRxpk']\n",
      "Player name: Neto, Unique hashes: ['COZrpB1f', 'dbGArTGd']\n",
      "Player name: Rafael, Unique hashes: ['OrM1uurD', 'K2lhc6jE']\n",
      "Player name: Rafinha, Unique hashes: ['8jE1xUrf', 'pxvTBxot', 'UZT4VF22']\n",
      "Player name: Raul Garcia, Unique hashes: ['hI95WTn0', 'KI3A2f8L']\n",
      "Player name: Sergio Alvarez, Unique hashes: ['WANBOspq', 'dIHFGGH9']\n",
      "Player name: Wanderson, Unique hashes: ['UegPSnSI', 'jPMxnqoU']\n"
     ]
    }
   ],
   "source": [
    "# 名前被りを確認\n",
    "duplicate_hashes = players_df.groupby(\"long_name\")[\"hash\"].unique()\n",
    "duplicate_hashes = duplicate_hashes[duplicate_hashes.apply(len) > 1]\n",
    "\n",
    "# 重複する名前と対応する一意のhashリストを表示\n",
    "for name, hashes in duplicate_hashes.items():\n",
    "    print(f\"Player name: {name}, Unique hashes: {list(hashes)}\")"
   ]
  },
  {
   "cell_type": "code",
   "execution_count": 13,
   "metadata": {},
   "outputs": [
    {
     "name": "stdout",
     "output_type": "stream",
     "text": [
      "Empty DataFrame\n",
      "Columns: [Unnamed: 0, game, team, side, date, round, score, hash, name, captain, detail_link, short_name, shirt_number, country, facts, lineup, starting, long_name]\n",
      "Index: []\n"
     ]
    }
   ],
   "source": [
    "game = \"england_epl/2016-2017/2016-09-24 - 14-30 Manchester United 4 - 1 Leicester\"\n",
    "team = \"Leicester\"\n",
    "jersey_number = 11\n",
    "\n",
    "player_row = players_df[\n",
    "    (players_df[\"game\"] == game) &\n",
    "    (players_df[\"team\"] == team) &\n",
    "    (players_df[\"shirt_number\"] == jersey_number)\n",
    "]\n",
    "\n",
    "print(player_row)"
   ]
  },
  {
   "cell_type": "code",
   "execution_count": null,
   "metadata": {},
   "outputs": [],
   "source": []
  }
 ],
 "metadata": {
  "kernelspec": {
   "display_name": ".venv",
   "language": "python",
   "name": "python3"
  },
  "language_info": {
   "codemirror_mode": {
    "name": "ipython",
    "version": 3
   },
   "file_extension": ".py",
   "mimetype": "text/x-python",
   "name": "python",
   "nbconvert_exporter": "python",
   "pygments_lexer": "ipython3",
   "version": "3.11.3"
  }
 },
 "nbformat": 4,
 "nbformat_minor": 2
}
