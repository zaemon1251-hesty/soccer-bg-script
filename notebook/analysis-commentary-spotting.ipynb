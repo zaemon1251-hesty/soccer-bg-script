{
 "cells": [
  {
   "cell_type": "code",
   "execution_count": 1,
   "metadata": {},
   "outputs": [
    {
     "name": "stdout",
     "output_type": "stream",
     "text": [
      "/Users/heste/workspace/soccernet/sn-script\n"
     ]
    },
    {
     "name": "stderr",
     "output_type": "stream",
     "text": [
      "/Users/heste/workspace/soccernet/sn-script/.venv/lib/python3.11/site-packages/IPython/core/magics/osm.py:417: UserWarning: using dhist requires you to install the `pickleshare` library.\n",
      "  self.shell.db['dhist'] = compress_dhist(dhist)[-100:]\n"
     ]
    },
    {
     "data": {
      "text/plain": [
       "'/Users/heste/workspace/soccernet/sn-script'"
      ]
     },
     "execution_count": 1,
     "metadata": {},
     "output_type": "execute_result"
    }
   ],
   "source": [
    "# move to project root\n",
    "%cd ..\n",
    "%pwd"
   ]
  },
  {
   "cell_type": "code",
   "execution_count": 34,
   "metadata": {},
   "outputs": [],
   "source": [
    "import os\n",
    "\n",
    "import numpy as np\n",
    "import pandas as pd\n",
    "\n",
    "label_template = \"commentary_dataset/gpt-3.5-turbo-1106_500game_{half_nunber}_llm_annotation_{split}.csv\"\n",
    "\n",
    "split = \"train\"\n",
    "label_df_half1 = pd.read_csv(\n",
    "    os.path.join(label_template.format(half_nunber=1, split=split))\n",
    ")\n",
    "label_df_half2 = pd.read_csv(\n",
    "    os.path.join(label_template.format(half_nunber=2, split=split))\n",
    ")"
   ]
  },
  {
   "cell_type": "code",
   "execution_count": 8,
   "metadata": {},
   "outputs": [
    {
     "data": {
      "text/html": [
       "<div>\n",
       "<style scoped>\n",
       "    .dataframe tbody tr th:only-of-type {\n",
       "        vertical-align: middle;\n",
       "    }\n",
       "\n",
       "    .dataframe tbody tr th {\n",
       "        vertical-align: top;\n",
       "    }\n",
       "\n",
       "    .dataframe thead th {\n",
       "        text-align: right;\n",
       "    }\n",
       "</style>\n",
       "<table border=\"1\" class=\"dataframe\">\n",
       "  <thead>\n",
       "    <tr style=\"text-align: right;\">\n",
       "      <th></th>\n",
       "      <th>id</th>\n",
       "      <th>game</th>\n",
       "      <th>start</th>\n",
       "      <th>end</th>\n",
       "      <th>text</th>\n",
       "      <th>付加的情報か</th>\n",
       "      <th>大分類</th>\n",
       "      <th>小分類</th>\n",
       "      <th>備考</th>\n",
       "      <th>split</th>\n",
       "      <th>target_frameid</th>\n",
       "      <th>target_label</th>\n",
       "    </tr>\n",
       "  </thead>\n",
       "  <tbody>\n",
       "    <tr>\n",
       "      <th>0</th>\n",
       "      <td>0</td>\n",
       "      <td>england_epl/2014-2015/2015-02-21 - 18-00 Chels...</td>\n",
       "      <td>00:00</td>\n",
       "      <td>00:03</td>\n",
       "      <td>Arrancó ya el duelo, maneja la pelota el Barley.</td>\n",
       "      <td>0.0</td>\n",
       "      <td>NaN</td>\n",
       "      <td>NaN</td>\n",
       "      <td>This comment does not contain any supplementar...</td>\n",
       "      <td>train</td>\n",
       "      <td>0</td>\n",
       "      <td>1.0</td>\n",
       "    </tr>\n",
       "    <tr>\n",
       "      <th>1</th>\n",
       "      <td>1</td>\n",
       "      <td>england_epl/2014-2015/2015-02-21 - 18-00 Chels...</td>\n",
       "      <td>00:00</td>\n",
       "      <td>00:09</td>\n",
       "      <td>Hay que decir que también se midieron en el pr...</td>\n",
       "      <td>1.0</td>\n",
       "      <td>NaN</td>\n",
       "      <td>NaN</td>\n",
       "      <td>This comment contains historical match data.</td>\n",
       "      <td>train</td>\n",
       "      <td>0</td>\n",
       "      <td>2.0</td>\n",
       "    </tr>\n",
       "    <tr>\n",
       "      <th>2</th>\n",
       "      <td>2</td>\n",
       "      <td>england_epl/2014-2015/2015-02-21 - 18-00 Chels...</td>\n",
       "      <td>00:08</td>\n",
       "      <td>00:11</td>\n",
       "      <td>El Barley se adelantó.</td>\n",
       "      <td>0.0</td>\n",
       "      <td>NaN</td>\n",
       "      <td>NaN</td>\n",
       "      <td>This comment refers to a specific event in the...</td>\n",
       "      <td>train</td>\n",
       "      <td>8</td>\n",
       "      <td>1.0</td>\n",
       "    </tr>\n",
       "    <tr>\n",
       "      <th>3</th>\n",
       "      <td>3</td>\n",
       "      <td>england_epl/2014-2015/2015-02-21 - 18-00 Chels...</td>\n",
       "      <td>00:09</td>\n",
       "      <td>00:18</td>\n",
       "      <td>Hay que recordar que se adelantó en ese partid...</td>\n",
       "      <td>1.0</td>\n",
       "      <td>NaN</td>\n",
       "      <td>NaN</td>\n",
       "      <td>This comment contains historical match statist...</td>\n",
       "      <td>train</td>\n",
       "      <td>9</td>\n",
       "      <td>2.0</td>\n",
       "    </tr>\n",
       "    <tr>\n",
       "      <th>4</th>\n",
       "      <td>4</td>\n",
       "      <td>england_epl/2014-2015/2015-02-21 - 18-00 Chels...</td>\n",
       "      <td>00:17</td>\n",
       "      <td>00:19</td>\n",
       "      <td>Exactamente, justo lo que iba a decir.</td>\n",
       "      <td>0.0</td>\n",
       "      <td>NaN</td>\n",
       "      <td>NaN</td>\n",
       "      <td>This comment does not contain any supplementar...</td>\n",
       "      <td>train</td>\n",
       "      <td>17</td>\n",
       "      <td>1.0</td>\n",
       "    </tr>\n",
       "  </tbody>\n",
       "</table>\n",
       "</div>"
      ],
      "text/plain": [
       "   id                                               game  start    end  \\\n",
       "0   0  england_epl/2014-2015/2015-02-21 - 18-00 Chels...  00:00  00:03   \n",
       "1   1  england_epl/2014-2015/2015-02-21 - 18-00 Chels...  00:00  00:09   \n",
       "2   2  england_epl/2014-2015/2015-02-21 - 18-00 Chels...  00:08  00:11   \n",
       "3   3  england_epl/2014-2015/2015-02-21 - 18-00 Chels...  00:09  00:18   \n",
       "4   4  england_epl/2014-2015/2015-02-21 - 18-00 Chels...  00:17  00:19   \n",
       "\n",
       "                                                text  付加的情報か  大分類  小分類  \\\n",
       "0   Arrancó ya el duelo, maneja la pelota el Barley.     0.0  NaN  NaN   \n",
       "1  Hay que decir que también se midieron en el pr...     1.0  NaN  NaN   \n",
       "2                             El Barley se adelantó.     0.0  NaN  NaN   \n",
       "3  Hay que recordar que se adelantó en ese partid...     1.0  NaN  NaN   \n",
       "4             Exactamente, justo lo que iba a decir.     0.0  NaN  NaN   \n",
       "\n",
       "                                                  備考  split  target_frameid  \\\n",
       "0  This comment does not contain any supplementar...  train               0   \n",
       "1       This comment contains historical match data.  train               0   \n",
       "2  This comment refers to a specific event in the...  train               8   \n",
       "3  This comment contains historical match statist...  train               9   \n",
       "4  This comment does not contain any supplementar...  train              17   \n",
       "\n",
       "   target_label  \n",
       "0           1.0  \n",
       "1           2.0  \n",
       "2           1.0  \n",
       "3           2.0  \n",
       "4           1.0  "
      ]
     },
     "execution_count": 8,
     "metadata": {},
     "output_type": "execute_result"
    }
   ],
   "source": [
    "label_df_half1.head()"
   ]
  },
  {
   "cell_type": "code",
   "execution_count": 3,
   "metadata": {},
   "outputs": [],
   "source": [
    "games_half1 = label_df_half1[\"game\"].unique().tolist()\n",
    "games_half2 = label_df_half2[\"game\"].unique().tolist()"
   ]
  },
  {
   "cell_type": "code",
   "execution_count": 5,
   "metadata": {},
   "outputs": [],
   "source": [
    "comment_counts_half1 = { game: len(ids) for game, ids in label_df_half1.groupby('game').groups.items()}"
   ]
  },
  {
   "cell_type": "code",
   "execution_count": 6,
   "metadata": {},
   "outputs": [
    {
     "name": "stdout",
     "output_type": "stream",
     "text": [
      "mean_comment_counts_half1=487.8929889298893\n"
     ]
    }
   ],
   "source": [
    "mean_comment_counts_half1 = sum(comment_counts_half1.values()) / len(comment_counts_half1)\n",
    "print(f\"{mean_comment_counts_half1=}\")"
   ]
  },
  {
   "cell_type": "code",
   "execution_count": 7,
   "metadata": {},
   "outputs": [
    {
     "name": "stdout",
     "output_type": "stream",
     "text": [
      "average_comment_interval_half1=6\n"
     ]
    }
   ],
   "source": [
    "average_comment_interval_half1 = round(45 * 60 / mean_comment_counts_half1)\n",
    "print(f\"{average_comment_interval_half1=}\")"
   ]
  },
  {
   "cell_type": "code",
   "execution_count": 10,
   "metadata": {},
   "outputs": [
    {
     "name": "stdout",
     "output_type": "stream",
     "text": [
      "mean_comment_addional_info_counts_half1=70.79377431906615\n",
      "average_comment_addional_info_interval_half1=38\n"
     ]
    }
   ],
   "source": [
    "comment_addional_info_counts_half1 = {\n",
    "    game: len(ids)\n",
    "    for game, ids in label_df_half1[label_df_half1[\"付加的情報か\"] == 1].groupby('game').groups.items()\n",
    "}\n",
    "mean_comment_addional_info_counts_half1 = sum(comment_addional_info_counts_half1.values()) / len(comment_addional_info_counts_half1)\n",
    "print(f\"{mean_comment_addional_info_counts_half1=}\")\n",
    "average_comment_addional_info_interval_half1 = round(45 * 60 / mean_comment_addional_info_counts_half1)\n",
    "print(f\"{average_comment_addional_info_interval_half1=}\")"
   ]
  },
  {
   "cell_type": "code",
   "execution_count": null,
   "metadata": {},
   "outputs": [],
   "source": []
  },
  {
   "cell_type": "code",
   "execution_count": 6,
   "metadata": {},
   "outputs": [
    {
     "data": {
      "text/plain": [
       "(271, 275, 270)"
      ]
     },
     "execution_count": 6,
     "metadata": {},
     "output_type": "execute_result"
    }
   ],
   "source": [
    "len(games_half1), len(games_half2), len(set(games_half1) & set(games_half2))"
   ]
  },
  {
   "cell_type": "code",
   "execution_count": 7,
   "metadata": {},
   "outputs": [],
   "source": [
    "from SoccerNet.Downloader import getListGames\n",
    "games = getListGames(\"train\", \"caption\")"
   ]
  },
  {
   "cell_type": "code",
   "execution_count": 8,
   "metadata": {},
   "outputs": [
    {
     "data": {
      "text/plain": [
       "281"
      ]
     },
     "execution_count": 8,
     "metadata": {},
     "output_type": "execute_result"
    }
   ],
   "source": [
    "len(games)"
   ]
  },
  {
   "cell_type": "code",
   "execution_count": 10,
   "metadata": {},
   "outputs": [
    {
     "data": {
      "text/plain": [
       "132219"
      ]
     },
     "execution_count": 10,
     "metadata": {},
     "output_type": "execute_result"
    }
   ],
   "source": [
    "len(label_df_half1)"
   ]
  },
  {
   "cell_type": "code",
   "execution_count": 11,
   "metadata": {},
   "outputs": [],
   "source": [
    "label_df_half1 = label_df_half1.dropna(subset=[\"target_label\"])"
   ]
  },
  {
   "cell_type": "code",
   "execution_count": 12,
   "metadata": {},
   "outputs": [
    {
     "data": {
      "text/plain": [
       "131724"
      ]
     },
     "execution_count": 12,
     "metadata": {},
     "output_type": "execute_result"
    }
   ],
   "source": [
    "len(label_df_half1)"
   ]
  },
  {
   "cell_type": "code",
   "execution_count": 8,
   "metadata": {},
   "outputs": [
    {
     "data": {
      "text/plain": [
       "game\n",
       "england_epl/2014-2015/2015-02-21 - 18-00 Chelsea 1 - 1 Burnley               751\n",
       "england_epl/2014-2015/2015-02-21 - 18-00 Crystal Palace 1 - 2 Arsenal        400\n",
       "england_epl/2014-2015/2015-02-21 - 18-00 Swansea 2 - 1 Manchester United     352\n",
       "england_epl/2014-2015/2015-02-22 - 19-15 Southampton 0 - 2 Liverpool         650\n",
       "england_epl/2015-2016/2015-08-08 - 19-30 Chelsea 2 - 2 Swansea               746\n",
       "                                                                            ... \n",
       "spain_laliga/2016-2017/2017-05-06 - 21-45 Granada CF 0 - 4 Real Madrid       892\n",
       "spain_laliga/2016-2017/2017-05-14 - 21-00 Real Madrid 4 - 1 Sevilla          677\n",
       "spain_laliga/2016-2017/2017-05-17 - 22-00 Celta Vigo 1 - 4 Real Madrid      1187\n",
       "spain_laliga/2016-2017/2017-05-21 - 21-00 Barcelona 4 - 2 Eibar              565\n",
       "spain_laliga/2016-2017/2017-05-21 - 21-00 Malaga 0 - 2 Real Madrid           677\n",
       "Length: 271, dtype: int64"
      ]
     },
     "execution_count": 8,
     "metadata": {},
     "output_type": "execute_result"
    }
   ],
   "source": [
    "# number of comments per game\n",
    "comments_per_game = label_df_half1.groupby(\"game\").size()"
   ]
  },
  {
   "cell_type": "code",
   "execution_count": 20,
   "metadata": {},
   "outputs": [
    {
     "ename": "KeyError",
     "evalue": "'game'",
     "output_type": "error",
     "traceback": [
      "\u001b[0;31m---------------------------------------------------------------------------\u001b[0m",
      "\u001b[0;31mKeyError\u001b[0m                                  Traceback (most recent call last)",
      "Cell \u001b[0;32mIn[20], line 2\u001b[0m\n\u001b[1;32m      1\u001b[0m gdf \u001b[38;5;241m=\u001b[39m label_df_half1\u001b[38;5;241m.\u001b[39mgroupby(\u001b[38;5;124m\"\u001b[39m\u001b[38;5;124mgame\u001b[39m\u001b[38;5;124m\"\u001b[39m)\n\u001b[0;32m----> 2\u001b[0m \u001b[43mgdf\u001b[49m\u001b[38;5;241;43m.\u001b[39;49m\u001b[43mget_group\u001b[49m\u001b[43m(\u001b[49m\u001b[38;5;124;43m\"\u001b[39;49m\u001b[38;5;124;43mgame\u001b[39;49m\u001b[38;5;124;43m\"\u001b[39;49m\u001b[43m)\u001b[49m\n",
      "File \u001b[0;32m~/workspace/soccernet/sn-script/.venv/lib/python3.11/site-packages/pandas/core/groupby/groupby.py:1059\u001b[0m, in \u001b[0;36mBaseGroupBy.get_group\u001b[0;34m(self, name, obj)\u001b[0m\n\u001b[1;32m   1057\u001b[0m inds \u001b[38;5;241m=\u001b[39m \u001b[38;5;28mself\u001b[39m\u001b[38;5;241m.\u001b[39m_get_index(name)\n\u001b[1;32m   1058\u001b[0m \u001b[38;5;28;01mif\u001b[39;00m \u001b[38;5;129;01mnot\u001b[39;00m \u001b[38;5;28mlen\u001b[39m(inds):\n\u001b[0;32m-> 1059\u001b[0m     \u001b[38;5;28;01mraise\u001b[39;00m \u001b[38;5;167;01mKeyError\u001b[39;00m(name)\n\u001b[1;32m   1061\u001b[0m \u001b[38;5;28;01mif\u001b[39;00m obj \u001b[38;5;129;01mis\u001b[39;00m \u001b[38;5;28;01mNone\u001b[39;00m:\n\u001b[1;32m   1062\u001b[0m     indexer \u001b[38;5;241m=\u001b[39m inds \u001b[38;5;28;01mif\u001b[39;00m \u001b[38;5;28mself\u001b[39m\u001b[38;5;241m.\u001b[39maxis \u001b[38;5;241m==\u001b[39m \u001b[38;5;241m0\u001b[39m \u001b[38;5;28;01melse\u001b[39;00m (\u001b[38;5;28mslice\u001b[39m(\u001b[38;5;28;01mNone\u001b[39;00m), inds)\n",
      "\u001b[0;31mKeyError\u001b[0m: 'game'"
     ]
    }
   ],
   "source": [
    "gdf = label_df_half1.groupby(\"game\")\n",
    "gdf.get_group(\"game\")"
   ]
  },
  {
   "cell_type": "code",
   "execution_count": 33,
   "metadata": {},
   "outputs": [
    {
     "data": {
      "text/plain": [
       "0         00:00\n",
       "1         00:00\n",
       "2         00:07\n",
       "3         00:13\n",
       "4         00:20\n",
       "          ...  \n",
       "131056    44:50\n",
       "131057    44:52\n",
       "131058    44:54\n",
       "131059    44:55\n",
       "131060    44:57\n",
       "Name: start, Length: 131061, dtype: object"
      ]
     },
     "execution_count": 33,
     "metadata": {},
     "output_type": "execute_result"
    }
   ],
   "source": [
    "label_df_half2[\"start\"]"
   ]
  },
  {
   "cell_type": "code",
   "execution_count": 40,
   "metadata": {},
   "outputs": [
    {
     "name": "stdout",
     "output_type": "stream",
     "text": [
      "calc_average_interval_gap(label_df_half1)={'合計': 4.916800557795495, '映像の説明': 4.678105527017246, '付加的情報': 6.340345853067518}\n",
      "calc_average_interval_gap(label_df_half2)={'合計': 4.98979248543422, '映像の説明': 4.709697512018809, '付加的情報': 6.968126266658478}\n"
     ]
    }
   ],
   "source": [
    "def gametime_to_seconds(gametime):\n",
    "    # TODO csv_utils.pyからのインポートに変更\n",
    "    m, s = gametime.split(\":\")\n",
    "    return int(m) * 60 + int(s)\n",
    "\n",
    "def calc_average_interval_gap(df: pd.DataFrame) -> dict[str, int]:\n",
    "    \"\"\"\n",
    "    直前の行のstartと、今の行のstartの差分の平均を計算する\n",
    "    startは hh:mm 形式の文字列であることを前提とする\n",
    "    すでにstartでソートされていることを前提とする\n",
    "    差分がnanとなる値,ゲームの最初のコメントは無視する\n",
    "\n",
    "    出力\n",
    "    合計: ラベルによらない総計\n",
    "    映像の説明: 今の行のラベルが「付加的情報を含まない」のinterval平均\n",
    "    付加的情報: 今の行のラベルが「付加的情報を含む」のinterval平均\n",
    "    \"\"\"\n",
    "    # 非破壊的な操作を行うためにコピーを作成\n",
    "    df = df.copy()\n",
    "\n",
    "    df[\"start\"] = df[\"start\"].apply(gametime_to_seconds)\n",
    "    df[\"start_prev\"] = df[\"start\"].shift(1)\n",
    "    df[\"interval\"] = df[\"start\"] - df[\"start_prev\"]\n",
    "\n",
    "    conditions = (df[\"interval\"] < 0) | (df[\"interval\"].isna()) | (df[\"game\"] != df[\"game\"].shift(1))\n",
    "    df.loc[conditions, \"interval\"] = np.nan\n",
    "\n",
    "\n",
    "    result = df[\"interval\"].mean()\n",
    "    result_sitinvid = df.loc[df[\"付加的情報か\"] == 0, \"interval\"].mean()\n",
    "    result_addinfo = df.loc[df[\"付加的情報か\"] == 1, \"interval\"].mean()\n",
    "\n",
    "    result_dict = {\n",
    "        \"合計\": result,\n",
    "        \"映像の説明\": result_sitinvid,\n",
    "        \"付加的情報\": result_addinfo\n",
    "    }\n",
    "\n",
    "    return result_dict\n",
    "\n",
    "print(f\"{calc_average_interval_gap(label_df_half1)=}\")\n",
    "print(f\"{calc_average_interval_gap(label_df_half2)=}\")"
   ]
  },
  {
   "cell_type": "code",
   "execution_count": null,
   "metadata": {},
   "outputs": [],
   "source": []
  }
 ],
 "metadata": {
  "kernelspec": {
   "display_name": ".venv",
   "language": "python",
   "name": "python3"
  },
  "language_info": {
   "codemirror_mode": {
    "name": "ipython",
    "version": 3
   },
   "file_extension": ".py",
   "mimetype": "text/x-python",
   "name": "python",
   "nbconvert_exporter": "python",
   "pygments_lexer": "ipython3",
   "version": "3.11.3"
  }
 },
 "nbformat": 4,
 "nbformat_minor": 2
}
