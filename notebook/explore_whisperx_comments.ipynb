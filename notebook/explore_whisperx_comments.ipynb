{
 "cells": [
  {
   "cell_type": "code",
   "execution_count": 1,
   "metadata": {},
   "outputs": [
    {
     "name": "stdout",
     "output_type": "stream",
     "text": [
      "/Users/heste/workspace/soccernet/sn-script\n"
     ]
    },
    {
     "data": {
      "text/plain": [
       "'/Users/heste/workspace/soccernet/sn-script'"
      ]
     },
     "execution_count": 1,
     "metadata": {},
     "output_type": "execute_result"
    }
   ],
   "source": [
    "# move to project root\n",
    "%cd ..\n",
    "%pwd"
   ]
  },
  {
   "cell_type": "code",
   "execution_count": 2,
   "metadata": {},
   "outputs": [],
   "source": [
    "import os\n",
    "\n",
    "import pandas as pd\n",
    "import numpy as np\n",
    "from dataclasses import dataclass\n",
    "from pathlib import Path"
   ]
  },
  {
   "cell_type": "code",
   "execution_count": 3,
   "metadata": {},
   "outputs": [],
   "source": [
    "@dataclass\n",
    "class Config:\n",
    "    csv_path = Path('database/comments/500game_stable_version2.csv')\n",
    "    csv_en_path = Path('database/comments/500game_stable_en.csv')"
   ]
  },
  {
   "cell_type": "code",
   "execution_count": 4,
   "metadata": {},
   "outputs": [],
   "source": [
    "span_df = pd.read_csv(Config.csv_path)\n",
    "span_en_df = pd.read_csv(Config.csv_en_path)"
   ]
  },
  {
   "cell_type": "code",
   "execution_count": 5,
   "metadata": {},
   "outputs": [
    {
     "data": {
      "text/plain": [
       "Index(['id', 'game', 'half', 'start', 'end', 'text'], dtype='object')"
      ]
     },
     "execution_count": 5,
     "metadata": {},
     "output_type": "execute_result"
    }
   ],
   "source": [
    "span_df.columns"
   ]
  },
  {
   "cell_type": "code",
   "execution_count": 6,
   "metadata": {},
   "outputs": [],
   "source": [
    "# 並べかえ\n",
    "span_df = span_df.sort_values(by=['game', 'half', 'start'])\n",
    "span_en_df = span_en_df.sort_values(by=['game', 'half', 'start'])"
   ]
  },
  {
   "cell_type": "code",
   "execution_count": 7,
   "metadata": {},
   "outputs": [
    {
     "data": {
      "text/html": [
       "<div>\n",
       "<style scoped>\n",
       "    .dataframe tbody tr th:only-of-type {\n",
       "        vertical-align: middle;\n",
       "    }\n",
       "\n",
       "    .dataframe tbody tr th {\n",
       "        vertical-align: top;\n",
       "    }\n",
       "\n",
       "    .dataframe thead th {\n",
       "        text-align: right;\n",
       "    }\n",
       "</style>\n",
       "<table border=\"1\" class=\"dataframe\">\n",
       "  <thead>\n",
       "    <tr style=\"text-align: right;\">\n",
       "      <th></th>\n",
       "      <th>start</th>\n",
       "      <th>end</th>\n",
       "    </tr>\n",
       "  </thead>\n",
       "  <tbody>\n",
       "    <tr>\n",
       "      <th>65838</th>\n",
       "      <td>0.888</td>\n",
       "      <td>7.836</td>\n",
       "    </tr>\n",
       "    <tr>\n",
       "      <th>65839</th>\n",
       "      <td>9.818</td>\n",
       "      <td>13.702</td>\n",
       "    </tr>\n",
       "    <tr>\n",
       "      <th>65840</th>\n",
       "      <td>14.903</td>\n",
       "      <td>19.729</td>\n",
       "    </tr>\n",
       "    <tr>\n",
       "      <th>65841</th>\n",
       "      <td>24.597</td>\n",
       "      <td>30.179</td>\n",
       "    </tr>\n",
       "    <tr>\n",
       "      <th>65842</th>\n",
       "      <td>31.817</td>\n",
       "      <td>32.898</td>\n",
       "    </tr>\n",
       "    <tr>\n",
       "      <th>65843</th>\n",
       "      <td>32.998</td>\n",
       "      <td>35.759</td>\n",
       "    </tr>\n",
       "    <tr>\n",
       "      <th>65844</th>\n",
       "      <td>36.460</td>\n",
       "      <td>39.701</td>\n",
       "    </tr>\n",
       "    <tr>\n",
       "      <th>65845</th>\n",
       "      <td>39.741</td>\n",
       "      <td>41.422</td>\n",
       "    </tr>\n",
       "    <tr>\n",
       "      <th>65846</th>\n",
       "      <td>41.462</td>\n",
       "      <td>42.243</td>\n",
       "    </tr>\n",
       "    <tr>\n",
       "      <th>65847</th>\n",
       "      <td>42.323</td>\n",
       "      <td>44.704</td>\n",
       "    </tr>\n",
       "    <tr>\n",
       "      <th>65848</th>\n",
       "      <td>44.784</td>\n",
       "      <td>47.046</td>\n",
       "    </tr>\n",
       "    <tr>\n",
       "      <th>65849</th>\n",
       "      <td>47.926</td>\n",
       "      <td>51.108</td>\n",
       "    </tr>\n",
       "    <tr>\n",
       "      <th>65850</th>\n",
       "      <td>54.963</td>\n",
       "      <td>71.868</td>\n",
       "    </tr>\n",
       "    <tr>\n",
       "      <th>65851</th>\n",
       "      <td>72.777</td>\n",
       "      <td>74.900</td>\n",
       "    </tr>\n",
       "    <tr>\n",
       "      <th>65852</th>\n",
       "      <td>78.264</td>\n",
       "      <td>82.689</td>\n",
       "    </tr>\n",
       "    <tr>\n",
       "      <th>65853</th>\n",
       "      <td>86.233</td>\n",
       "      <td>87.014</td>\n",
       "    </tr>\n",
       "    <tr>\n",
       "      <th>65854</th>\n",
       "      <td>88.296</td>\n",
       "      <td>89.117</td>\n",
       "    </tr>\n",
       "    <tr>\n",
       "      <th>65855</th>\n",
       "      <td>91.408</td>\n",
       "      <td>92.492</td>\n",
       "    </tr>\n",
       "    <tr>\n",
       "      <th>65856</th>\n",
       "      <td>95.403</td>\n",
       "      <td>97.009</td>\n",
       "    </tr>\n",
       "    <tr>\n",
       "      <th>65857</th>\n",
       "      <td>97.995</td>\n",
       "      <td>117.231</td>\n",
       "    </tr>\n",
       "  </tbody>\n",
       "</table>\n",
       "</div>"
      ],
      "text/plain": [
       "        start      end\n",
       "65838   0.888    7.836\n",
       "65839   9.818   13.702\n",
       "65840  14.903   19.729\n",
       "65841  24.597   30.179\n",
       "65842  31.817   32.898\n",
       "65843  32.998   35.759\n",
       "65844  36.460   39.701\n",
       "65845  39.741   41.422\n",
       "65846  41.462   42.243\n",
       "65847  42.323   44.704\n",
       "65848  44.784   47.046\n",
       "65849  47.926   51.108\n",
       "65850  54.963   71.868\n",
       "65851  72.777   74.900\n",
       "65852  78.264   82.689\n",
       "65853  86.233   87.014\n",
       "65854  88.296   89.117\n",
       "65855  91.408   92.492\n",
       "65856  95.403   97.009\n",
       "65857  97.995  117.231"
      ]
     },
     "execution_count": 7,
     "metadata": {},
     "output_type": "execute_result"
    }
   ],
   "source": [
    "target_game = \"england_epl/2015-2016/2015-08-29 - 17-00 Chelsea 1 - 2 Crystal Palace\"\n",
    "# span_df.loc[\n",
    "#     span_df['game'] == target_game,\n",
    "#     [\"game\", \"half\", \"start\", \"end\", \"text\"]\n",
    "# ].head(20)\n",
    "\n",
    "span_df.loc[\n",
    "    span_df['game'] == target_game,\n",
    "    [ \"start\", \"end\"]\n",
    "].head(20)\n",
    "\n",
    "span_en_df.loc[\n",
    "    span_en_df['game'] == target_game,\n",
    "    [ \"start\", \"end\"]\n",
    "].head(20)"
   ]
  },
  {
   "cell_type": "code",
   "execution_count": 11,
   "metadata": {},
   "outputs": [
    {
     "name": "stdout",
     "output_type": "stream",
     "text": [
      "(1)'s avg. # of utterances per game: 490.81\n",
      "(2)'s avg. # of utterances per game: 385.28\n"
     ]
    }
   ],
   "source": [
    "for name, df in [(\"(1)\", span_df), (\"(2)\", span_en_df)]:\n",
    "    avg_num_utterances_per_game = df.groupby(['game', 'half']).size().mean()\n",
    "    print(f\"{name}'s avg. # of utterances per game: {avg_num_utterances_per_game:.2f}\")\n"
   ]
  },
  {
   "cell_type": "code",
   "execution_count": 38,
   "metadata": {},
   "outputs": [
    {
     "name": "stdout",
     "output_type": "stream",
     "text": [
      "get_silence_info(span_df)={'silence_mean': 1.7296893678110612, 'inverse_rate': 0.0021226183326964023}\n",
      "get_silence_info(span_en_df)={'silence_mean': 3.5117781317433265, 'inverse_rate': 0.02020235740535187}\n"
     ]
    }
   ],
   "source": [
    "# 沈黙時間の平均を算出\n",
    "def add_silence(df: pd.DataFrame) -> pd.DataFrame:\n",
    "    df['prev_end'] = df['end'].shift(1)\n",
    "    df['silence'] = (df['start'] - df['prev_end'])\n",
    "    return df\n",
    "\n",
    "def get_silence_info(df: pd.DataFrame) -> float:\n",
    "    df = add_silence(df)\n",
    "\n",
    "    # 逆転している割合\n",
    "    inverse_rate = (df['silence'] < 0).sum() / len(df)\n",
    "\n",
    "    df.loc[df['silence'] < 0, 'silence'] = None\n",
    "    silence_mean = df['silence'].mean(skipna=True)\n",
    "    return {\"silence_mean\": silence_mean, \"inverse_rate\":inverse_rate}\n",
    "\n",
    "print(f\"{get_silence_info(span_df)=}\")\n",
    "print(f\"{get_silence_info(span_en_df)=}\")\n",
    "\n",
    "# stableとenで、平均沈黙時間が異なる！！\n",
    "# とても嫌な感じがする"
   ]
  },
  {
   "cell_type": "code",
   "execution_count": 27,
   "metadata": {},
   "outputs": [
    {
     "data": {
      "text/plain": [
       "<Figure size 640x480 with 0 Axes>"
      ]
     },
     "metadata": {},
     "output_type": "display_data"
    },
    {
     "data": {
      "image/png": "[encoded data removed]",
      "text/plain": [
       "<Figure size 1000x1000 with 2 Axes>"
      ]
     },
     "metadata": {},
     "output_type": "display_data"
    }
   ],
   "source": [
    "# 沈黙時間の分布を可視化\n",
    "import matplotlib.pyplot as plt\n",
    "\n",
    "plt.tight_layout()\n",
    "\n",
    "def plot_silence(df: pd.DataFrame, ax: plt.Axes, title: str):\n",
    "    df['prev_end'] = df['end'].shift(1)\n",
    "    df['silence'] = (df['start'] - df['prev_end'])\n",
    "\n",
    "    df.loc[df['silence'] < 0, 'silence'] = None\n",
    "    df['silence'].hist(bins=range(0, 50), ax=ax)\n",
    "    ax.set_title(title)\n",
    "    ax.set_xlabel(\"silence time\")\n",
    "    ax.set_ylabel(\"count\")\n",
    "    ax.grid()\n",
    "\n",
    "\n",
    "fig, ax = plt.subplots(2, 1, figsize=(10, 10))\n",
    "plot_silence(span_df, ax[0], \"stable\")\n",
    "plot_silence(span_en_df, ax[1], \"en\")\n"
   ]
  },
  {
   "cell_type": "code",
   "execution_count": 42,
   "metadata": {},
   "outputs": [
    {
     "name": "stdout",
     "output_type": "stream",
     "text": [
      "get_count_over_30_sec_silence(span_df)=1424\n",
      "get_count_over_30_sec_silence(span_en_df)=4589\n",
      "--------\n",
      "get_count_over_30_sec_silence_rate(span_df)=0.003109679532674565\n",
      "get_count_over_30_sec_silence_rate(span_en_df)=0.012766265234530397\n"
     ]
    }
   ],
   "source": [
    "# 30秒以上の沈黙時間があるコメント数を算出\n",
    "def add_over_30_sec_silence(df: pd.DataFrame):\n",
    "    df['prev_end'] = df['end'].shift(1)\n",
    "    df['silence'] = (df['start'] - df['prev_end'])\n",
    "\n",
    "    df.loc[df['silence'] < 0, 'silence'] = None\n",
    "    return df\n",
    "\n",
    "def get_count_over_30_sec_silence(df: pd.DataFrame):\n",
    "    df = add_over_30_sec_silence(df)\n",
    "    return (df['silence'] > 30).sum()\n",
    "\n",
    "def get_count_over_30_sec_silence_rate(df: pd.DataFrame):\n",
    "    df = add_over_30_sec_silence(df)\n",
    "    return (df['silence'] > 30).sum() / len(df)\n",
    "\n",
    "\n",
    "print(f\"{get_count_over_30_sec_silence(span_df)=}\")\n",
    "print(f\"{get_count_over_30_sec_silence(span_en_df)=}\")\n",
    "print(\"--------\")\n",
    "print(f\"{get_count_over_30_sec_silence_rate(span_df)=}\")\n",
    "print(f\"{get_count_over_30_sec_silence_rate(span_en_df)=}\")\n"
   ]
  },
  {
   "cell_type": "code",
   "execution_count": 40,
   "metadata": {},
   "outputs": [
    {
     "data": {
      "text/html": [
       "<div>\n",
       "<style scoped>\n",
       "    .dataframe tbody tr th:only-of-type {\n",
       "        vertical-align: middle;\n",
       "    }\n",
       "\n",
       "    .dataframe tbody tr th {\n",
       "        vertical-align: top;\n",
       "    }\n",
       "\n",
       "    .dataframe thead th {\n",
       "        text-align: right;\n",
       "    }\n",
       "</style>\n",
       "<table border=\"1\" class=\"dataframe\">\n",
       "  <thead>\n",
       "    <tr style=\"text-align: right;\">\n",
       "      <th></th>\n",
       "      <th>start</th>\n",
       "      <th>end</th>\n",
       "      <th>text</th>\n",
       "    </tr>\n",
       "  </thead>\n",
       "  <tbody>\n",
       "    <tr>\n",
       "      <th>309957</th>\n",
       "      <td>838.433</td>\n",
       "      <td>840.194</td>\n",
       "      <td>Панчон.</td>\n",
       "    </tr>\n",
       "    <tr>\n",
       "      <th>18231</th>\n",
       "      <td>329.486</td>\n",
       "      <td>330.188</td>\n",
       "      <td>There's Van Persie.</td>\n",
       "    </tr>\n",
       "    <tr>\n",
       "      <th>298765</th>\n",
       "      <td>2363.692</td>\n",
       "      <td>2365.615</td>\n",
       "      <td>Tigers pass just evading Wal Kraus.</td>\n",
       "    </tr>\n",
       "    <tr>\n",
       "      <th>311361</th>\n",
       "      <td>2136.446</td>\n",
       "      <td>2137.107</td>\n",
       "      <td>by Fabregas.</td>\n",
       "    </tr>\n",
       "    <tr>\n",
       "      <th>311415</th>\n",
       "      <td>2530.834</td>\n",
       "      <td>2547.499</td>\n",
       "      <td>corks in the game for Fernandez who may cruel...</td>\n",
       "    </tr>\n",
       "    <tr>\n",
       "      <th>420787</th>\n",
       "      <td>2258.263</td>\n",
       "      <td>2258.724</td>\n",
       "      <td>Morrison.</td>\n",
       "    </tr>\n",
       "    <tr>\n",
       "      <th>420884</th>\n",
       "      <td>250.601</td>\n",
       "      <td>264.669</td>\n",
       "      <td>in the right place to play with all the trans...</td>\n",
       "    </tr>\n",
       "    <tr>\n",
       "      <th>421001</th>\n",
       "      <td>1027.063</td>\n",
       "      <td>1028.666</td>\n",
       "      <td>Northorn's a much noisier place now.</td>\n",
       "    </tr>\n",
       "    <tr>\n",
       "      <th>92336</th>\n",
       "      <td>1660.925</td>\n",
       "      <td>1666.308</td>\n",
       "      <td>Scott down.</td>\n",
       "    </tr>\n",
       "    <tr>\n",
       "      <th>92464</th>\n",
       "      <td>2535.964</td>\n",
       "      <td>2536.064</td>\n",
       "      <td>Pedro.</td>\n",
       "    </tr>\n",
       "    <tr>\n",
       "      <th>92989</th>\n",
       "      <td>2602.088</td>\n",
       "      <td>2602.409</td>\n",
       "      <td>Falcao.</td>\n",
       "    </tr>\n",
       "    <tr>\n",
       "      <th>128625</th>\n",
       "      <td>1505.043</td>\n",
       "      <td>1505.604</td>\n",
       "      <td>Kolarov.</td>\n",
       "    </tr>\n",
       "    <tr>\n",
       "      <th>128674</th>\n",
       "      <td>1822.426</td>\n",
       "      <td>1824.228</td>\n",
       "      <td>Sania for Navas.</td>\n",
       "    </tr>\n",
       "    <tr>\n",
       "      <th>128730</th>\n",
       "      <td>2224.266</td>\n",
       "      <td>2224.667</td>\n",
       "      <td>Toure.</td>\n",
       "    </tr>\n",
       "    <tr>\n",
       "      <th>36128</th>\n",
       "      <td>2073.496</td>\n",
       "      <td>2075.277</td>\n",
       "      <td>Tompkins free kick, looking for Sacco.</td>\n",
       "    </tr>\n",
       "    <tr>\n",
       "      <th>209790</th>\n",
       "      <td>991.027</td>\n",
       "      <td>992.808</td>\n",
       "      <td>Милнар катит мяч.</td>\n",
       "    </tr>\n",
       "    <tr>\n",
       "      <th>209850</th>\n",
       "      <td>1239.514</td>\n",
       "      <td>1242.483</td>\n",
       "      <td>Продолжение следует...</td>\n",
       "    </tr>\n",
       "    <tr>\n",
       "      <th>209920</th>\n",
       "      <td>1717.535</td>\n",
       "      <td>1719.177</td>\n",
       "      <td>Миллар, Эмраджан.</td>\n",
       "    </tr>\n",
       "    <tr>\n",
       "      <th>210115</th>\n",
       "      <td>2672.136</td>\n",
       "      <td>2675.472</td>\n",
       "      <td>Джеймс Милор автор пока единственного гола в ...</td>\n",
       "    </tr>\n",
       "    <tr>\n",
       "      <th>210211</th>\n",
       "      <td>370.549</td>\n",
       "      <td>380.798</td>\n",
       "      <td>Лукас.</td>\n",
       "    </tr>\n",
       "  </tbody>\n",
       "</table>\n",
       "</div>"
      ],
      "text/plain": [
       "           start       end                                               text\n",
       "309957   838.433   840.194                                            Панчон.\n",
       "18231    329.486   330.188                                There's Van Persie.\n",
       "298765  2363.692  2365.615                Tigers pass just evading Wal Kraus.\n",
       "311361  2136.446  2137.107                                       by Fabregas.\n",
       "311415  2530.834  2547.499   corks in the game for Fernandez who may cruel...\n",
       "420787  2258.263  2258.724                                          Morrison.\n",
       "420884   250.601   264.669   in the right place to play with all the trans...\n",
       "421001  1027.063  1028.666               Northorn's a much noisier place now.\n",
       "92336   1660.925  1666.308                                        Scott down.\n",
       "92464   2535.964  2536.064                                             Pedro.\n",
       "92989   2602.088  2602.409                                            Falcao.\n",
       "128625  1505.043  1505.604                                           Kolarov.\n",
       "128674  1822.426  1824.228                                   Sania for Navas.\n",
       "128730  2224.266  2224.667                                             Toure.\n",
       "36128   2073.496  2075.277             Tompkins free kick, looking for Sacco.\n",
       "209790   991.027   992.808                                  Милнар катит мяч.\n",
       "209850  1239.514  1242.483                             Продолжение следует...\n",
       "209920  1717.535  1719.177                                  Миллар, Эмраджан.\n",
       "210115  2672.136  2675.472   Джеймс Милор автор пока единственного гола в ...\n",
       "210211   370.549   380.798                                             Лукас."
      ]
     },
     "execution_count": 40,
     "metadata": {},
     "output_type": "execute_result"
    }
   ],
   "source": [
    "def head_over_30_sec_silence(df: pd.DataFrame):\n",
    "    df = add_silence(df)\n",
    "    return df.loc[df['silence'] > 30, [\"start\", \"end\", \"text\"]].head(20)\n",
    "\n"
   ]
  },
  {
   "cell_type": "code",
   "execution_count": 37,
   "metadata": {},
   "outputs": [
    {
     "name": "stdout",
     "output_type": "stream",
     "text": [
      "get_count_over_30_sec_start_gap(span_df)=2286\n",
      "get_count_over_30_sec_start_gap(span_en_df)=5312\n"
     ]
    }
   ],
   "source": [
    "def add_over_30_sec_start_gap(df: pd.DataFrame):\n",
    "    df['prev_start'] = df['start'].shift(1)\n",
    "    df['gap'] = (df['start'] - df['prev_start'])\n",
    "\n",
    "    df.loc[df['gap'] < 0, 'gap'] = None\n",
    "    return df\n",
    "\n",
    "def get_count_over_30_sec_start_gap(df: pd.DataFrame):\n",
    "    df = add_over_30_sec_start_gap(df)\n",
    "    return (df['gap'] > 30).sum()\n",
    "\n",
    "print(f\"{get_count_over_30_sec_start_gap(span_df)=}\")\n",
    "print(f\"{get_count_over_30_sec_start_gap(span_en_df)=}\")"
   ]
  },
  {
   "cell_type": "code",
   "execution_count": 30,
   "metadata": {},
   "outputs": [
    {
     "name": "stdout",
     "output_type": "stream",
     "text": [
      "get_duration_avg(span_df)=3.5816392914794477\n",
      "get_duration_avg(span_en_df)=3.2968306545684705\n"
     ]
    }
   ],
   "source": [
    "def add_duration(df: pd.DataFrame) -> float:\n",
    "    df['duration'] = df['end'] - df['start']\n",
    "    return df\n",
    "\n",
    "def get_duration_avg(df: pd.DataFrame) -> float:\n",
    "    df = add_duration(df)\n",
    "    duration_avg = df['duration'].mean()\n",
    "    return duration_avg\n",
    "\n",
    "print(f\"{get_duration_avg(span_df)=}\")\n",
    "print(f\"{get_duration_avg(span_en_df)=}\")"
   ]
  },
  {
   "cell_type": "code",
   "execution_count": 12,
   "metadata": {},
   "outputs": [
    {
     "name": "stdout",
     "output_type": "stream",
     "text": [
      "get_text_length_avg(span_df)=55.3145427744718\n",
      "get_text_length_avg(span_en_df)=56.83933812381247\n"
     ]
    }
   ],
   "source": [
    "def get_text_length_avg(df: pd.DataFrame) -> float:\n",
    "    df['text_length'] = df['text'].str.len()\n",
    "    text_length_avg = df['text_length'].mean()\n",
    "    return text_length_avg\n",
    "\n",
    "print(f\"{get_text_length_avg(span_df)=}\")\n",
    "print(f\"{get_text_length_avg(span_en_df)=}\")"
   ]
  },
  {
   "cell_type": "code",
   "execution_count": 19,
   "metadata": {},
   "outputs": [
    {
     "name": "stdout",
     "output_type": "stream",
     "text": [
      "get_word_count_avg(span_df)=9.604162253644155\n",
      "get_word_count_avg(span_en_df)=10.415105309864993\n"
     ]
    }
   ],
   "source": [
    "def get_word_count_avg(df: pd.DataFrame) -> float:\n",
    "    # tips: listなどのobjectはstrで操作できる\n",
    "    # https://stackoverflow.com/questions/41340341/how-to-determine-the-length-of-lists-in-a-pandas-dataframe-column\n",
    "    df['word_count'] = df['text'].str.split().str.len()\n",
    "    word_count_avg = df['word_count'].mean()\n",
    "    return word_count_avg\n",
    "\n",
    "print(f\"{get_word_count_avg(span_df)=}\")\n",
    "print(f\"{get_word_count_avg(span_en_df)=}\")"
   ]
  },
  {
   "cell_type": "code",
   "execution_count": 13,
   "metadata": {},
   "outputs": [
    {
     "name": "stdout",
     "output_type": "stream",
     "text": [
      "get_count_by_game_avg(span_df)=978.4722222222222\n",
      "get_count_by_game_avg(span_en_df)=768.0833333333334\n"
     ]
    }
   ],
   "source": [
    "def get_count_by_game_avg(df: pd.DataFrame) -> pd.DataFrame:\n",
    "    count_df = df.groupby('game').size().reset_index(name='count')\n",
    "    count_mean = count_df['count'].mean()\n",
    "    return count_mean\n",
    "\n",
    "print(f\"{get_count_by_game_avg(span_df)=}\")\n",
    "print(f\"{get_count_by_game_avg(span_en_df)=}\")"
   ]
  },
  {
   "cell_type": "code",
   "execution_count": 91,
   "metadata": {},
   "outputs": [
    {
     "name": "stdout",
     "output_type": "stream",
     "text": [
      "max_diff_game='italy_serie-a/2016-2017/2016-10-29 - 21-45 Juventus 2 - 1 Napoli'\n",
      "max_diff=1555\n",
      "--------\n",
      "                                                  game  count\n",
      "298  italy_serie-a/2016-2017/2016-10-29 - 21-45 Juv...   1772\n",
      "                                                  game  count\n",
      "298  italy_serie-a/2016-2017/2016-10-29 - 21-45 Juv...    217\n",
      "--------\n",
      "        start     end                                               text\n",
      "56918   0.169   4.352   И только что показали крупным планом Влада Ки...\n",
      "56075   0.650   5.518   Сегодня играет третий Джорджо Келлини, 19-й Л...\n",
      "56919   4.412   4.992                                           Он спас.\n",
      "56920   5.012   7.954  Тогда в перерыве удалось посмотреть несколько ...\n",
      "56076   5.538   7.682              Традиционная тройка в обороне фланги.\n",
      "56077   7.742  13.332  Слева бразилец Александро под номером 12, спра...\n",
      "56921   8.094   9.916                      До Пеппи Рейна дело не дошло.\n",
      "56922  10.476  12.318                        Выбил мяч защитник Наполея.\n",
      "56923  12.358  13.579                             Буквально снял с ноги.\n",
      "56924  13.639  15.942                  Заблокировал удар Гонсало Игуаин.\n",
      "56078  13.852  15.153                      Три футболиста в центре поля.\n",
      "56079  15.173  16.133                                Шестой самих Едира.\n",
      "56925  15.982  16.642                                     Важный момент.\n",
      "56080  16.213  17.333                              Пятый Миралин Пьянич.\n",
      "56926  16.682  18.804            Ювентус обязан ситуацию на поле менять.\n",
      "56081  17.373  21.715  И на позиции режиссера игры сегодня действует ...\n",
      "56927  18.825  20.206                               Ювентус играет дома.\n",
      "56928  20.226  21.107                              Не забывайте об этом.\n",
      "56929  21.147  25.811  Поэтому весь матч играть без мяча вторым номер...\n",
      "56082  21.755  22.615                                      Два форварда.\n",
      "56083  22.675  23.815                                   Сегодня не пара.\n",
      "56084  23.875  24.636                               Большой и маленький.\n",
      "56085  24.716  25.336                                     А оба больших.\n",
      "56086  25.356  27.477                          Это девятый Гасал Эгуаин.\n",
      "56930  25.872  29.115               Даже с точки зрения философии клуба.\n",
      "56087  27.537  28.997                      И семнадцатый Марио Маджукич.\n",
      "56088  29.037  31.018                  Наставник Юве Масимеляну Аллегри.\n",
      "56089  31.838  38.120   Да, нужно отметить, что успел уже после того,...\n",
      "56931  32.037  32.917                                   И тут же потеря.\n",
      "56932  33.017  34.098                                 Да, тут же потеря.\n",
      "--------\n",
      "         start      end                                               text\n",
      "45928   94.918   95.438   14th Dries Mertens, 7th Jose Calijon and 24th...\n",
      "45929   95.738   95.438                           He is now with the ball.\n",
      "45930   96.018   95.438  Perhaps he will have to, from time to time, ev...\n",
      "45931   96.719   95.438  But somehow he will need to slip away from the...\n",
      "45932   97.219   95.438                                    Maurizio Sarri.\n",
      "46015  131.722  132.723   And this is how you have to play Neapolitans ...\n",
      "46016  132.163  132.723                       And this is Higuaín already.\n",
      "46017  132.263  132.723  He turned the attack around, passed to Juan Cu...\n",
      "46018  132.523  132.723          That one-on-one wins the opponent easily.\n",
      "46019  132.883  132.723                              Pass to the far post.\n",
      "46020  133.524  132.723                                    Here is Pjanić.\n",
      "45933  207.892  207.953                                               4-1.\n",
      "45934  208.053  207.953  Napoli won their match against the team that w...\n",
      "45935  209.033  209.053                                 2-0 won by Empoli.\n",
      "45936  209.134  209.053  Empoli, like Sampdoria, are at the bottom of t...\n",
      "46021  284.111  284.371         Juventus and Pavel Nedved, vice-president.\n",
      "46022  284.391  284.371                         Junior Agnelli and Nedved.\n",
      "46023  284.592  284.371                              And here is the blow.\n",
      "46024  285.413  284.371                                 The blow is crazy.\n",
      "46025  285.773  284.371           It was necessary to adjust to the match.\n",
      "46026  286.094  284.371                          Skoda, Skoda hit Bonucci.\n",
      "46027  286.174  284.371        You know, just a perfect blow from Bonucci.\n",
      "46028  318.452  318.913                               He did it perfectly.\n",
      "46029  318.552  318.913                  Bonucci 1-0 in front of Juventus.\n",
      "46030  319.013  318.913                                Here is the attack.\n",
      "46031  319.133  318.913            Higuaín's pass to Mandžukić is too far.\n",
      "46032  319.333  318.913  We'll figure it out later, probably on the rep...\n",
      "46033  319.893  318.913  And, of course, there couldn't be an offside, ...\n",
      "46034  320.454  318.913                             The ball hit the goal.\n",
      "46035  468.331  469.072          The player of Napoli's centre of defence.\n"
     ]
    }
   ],
   "source": [
    "def get_max_diff_game(df_grouped: pd.DataFrame, df_en_grouped: pd.DataFrame) -> str:\n",
    "    # コメント数の差が最大となるgameを選ぶ\n",
    "    diff = (df_grouped['count'] - df_en_grouped['count'])\n",
    "    max_diff_game = df_grouped.loc[diff.idxmax(), 'game']\n",
    "\n",
    "    return max_diff_game\n",
    "\n",
    "# gameごとのコメント数の差を可視化\n",
    "def get_diff_comment_count(df: pd.DataFrame, df_en: pd.DataFrame):\n",
    "    df_grouped = df.groupby('game').size().reset_index(name='count')\n",
    "    df_en_grouped = df_en.groupby('game').size().reset_index(name='count')\n",
    "\n",
    "    diff = (df_grouped['count'] - df_en_grouped['count'])\n",
    "    diff.index = df_grouped['game']\n",
    "    return diff\n",
    "\n",
    "def show_max_diff_game(df: pd.DataFrame, df_en: pd.DataFrame):\n",
    "    df_grouped = df.groupby('game').size().reset_index(name='count')\n",
    "    df_en_grouped = df_en.groupby('game').size().reset_index(name='count')\n",
    "\n",
    "    diff = get_diff_comment_count(df, df_en)\n",
    "\n",
    "    max_diff_game = get_max_diff_game(df_grouped, df_en_grouped)\n",
    "    max_diff = diff.loc[max_diff_game]\n",
    "    print(f\"{max_diff_game=}\")\n",
    "    print(f\"{max_diff=}\")\n",
    "    print(\"--------\")\n",
    "    print(f\"{df_grouped[df_grouped['game'] == max_diff_game]}\")\n",
    "    print(f\"{df_en_grouped[df_en_grouped['game'] == max_diff_game]}\")\n",
    "    print(\"--------\")\n",
    "    print(f\"{df.loc[df['game'] == max_diff_game, ['start', 'end', 'text']].sort_values(['start']).head(30)}\")\n",
    "    print(\"--------\")\n",
    "    print(f\"{df_en.loc[df_en['game'] == max_diff_game, ['start', 'end', 'text']].sort_values(['start']).head(30)}\")\n",
    "show_max_diff_game(span_df, span_en_df)"
   ]
  },
  {
   "cell_type": "code",
   "execution_count": 104,
   "metadata": {},
   "outputs": [
    {
     "data": {
      "image/png": "[encoded data removed]",
      "text/plain": [
       "<Figure size 640x480 with 1 Axes>"
      ]
     },
     "metadata": {},
     "output_type": "display_data"
    }
   ],
   "source": [
    "# 探索的データ分析 -プロット-\n",
    "def get_games_extreme_diff(df: pd.DataFrame, df_en: pd.DataFrame) -> list:\n",
    "    diff = get_diff_comment_count(df, df_en)\n",
    "    over_games = diff[(diff > 500) | (diff < -500)].index.to_list()\n",
    "    return over_games\n",
    "\n",
    "def plot_diff_comment_count(df: pd.DataFrame, df_en: pd.DataFrame):\n",
    "    diff = get_diff_comment_count(df, df_en)\n",
    "    plt.hist(diff, bins=range(-500, 1500, 50))\n",
    "    plt.ylim(0, 200)\n",
    "    plt.title(\"diff comment count\")\n",
    "    plt.xlabel(\"diff\")\n",
    "    plt.ylabel(\"count\")\n",
    "    plt.grid()\n",
    "    plt.show()\n",
    "\n",
    "plot_diff_comment_count(span_df, span_en_df)\n",
    "extreme_games = get_games_extreme_diff(span_df, span_en_df)"
   ]
  },
  {
   "cell_type": "code",
   "execution_count": 113,
   "metadata": {},
   "outputs": [
    {
     "name": "stdout",
     "output_type": "stream",
     "text": [
      "len(total_game)=468\n",
      "len(extreme_games)=95\n",
      "get_silence_info(span_df_cleaned)={'silence_mean': 2.0476893767692492, 'inverse_rate': 0.0023428702885302274}\n",
      "get_silence_info(span_en_df_cleaned)={'silence_mean': 2.2382705562308955, 'inverse_rate': 0.00220799293442261}\n",
      "--------\n",
      "get_count_over_30_sec_silence(span_df_cleaned)=1307\n",
      "get_count_over_30_sec_silence(span_en_df_cleaned)=1345\n",
      "--------\n",
      "get_count_over_30_sec_silence_rate(span_df_cleaned)=0.003956242205567192\n",
      "get_count_over_30_sec_silence_rate(span_en_df_cleaned)=0.003959667329064547\n",
      "--------\n",
      "get_count_over_30_sec_start_gap(span_df_cleaned)=2057\n",
      "get_count_over_30_sec_start_gap(span_en_df_cleaned)=2070\n"
     ]
    },
    {
     "name": "stderr",
     "output_type": "stream",
     "text": [
      "/var/folders/8y/94zytg1j1h339lyf_x2r_ptr0000gn/T/ipykernel_26569/3494505697.py:3: SettingWithCopyWarning: \n",
      "A value is trying to be set on a copy of a slice from a DataFrame.\n",
      "Try using .loc[row_indexer,col_indexer] = value instead\n",
      "\n",
      "See the caveats in the documentation: https://pandas.pydata.org/pandas-docs/stable/user_guide/indexing.html#returning-a-view-versus-a-copy\n",
      "  df['prev_end'] = df['end'].shift(1)\n",
      "/var/folders/8y/94zytg1j1h339lyf_x2r_ptr0000gn/T/ipykernel_26569/3494505697.py:4: SettingWithCopyWarning: \n",
      "A value is trying to be set on a copy of a slice from a DataFrame.\n",
      "Try using .loc[row_indexer,col_indexer] = value instead\n",
      "\n",
      "See the caveats in the documentation: https://pandas.pydata.org/pandas-docs/stable/user_guide/indexing.html#returning-a-view-versus-a-copy\n",
      "  df['silence'] = (df['start'] - df['prev_end'])\n",
      "/var/folders/8y/94zytg1j1h339lyf_x2r_ptr0000gn/T/ipykernel_26569/230179459.py:2: SettingWithCopyWarning: \n",
      "A value is trying to be set on a copy of a slice from a DataFrame.\n",
      "Try using .loc[row_indexer,col_indexer] = value instead\n",
      "\n",
      "See the caveats in the documentation: https://pandas.pydata.org/pandas-docs/stable/user_guide/indexing.html#returning-a-view-versus-a-copy\n",
      "  df['prev_start'] = df['start'].shift(1)\n"
     ]
    }
   ],
   "source": [
    "# 仮説：沈黙時間などの統計量の異常な差は、span_enのうち異常にコメント数が少ないgameに起因する\n",
    "# 仮説検証\n",
    "# 異常なコメント数の差があるgameを除いたデータを作成\n",
    "total_game = set(span_df['game']) & set(span_en_df['game'])\n",
    "print(f\"{len(total_game)=}\")\n",
    "print(f\"{len(extreme_games)=}\")\n",
    "\n",
    "span_df_cleaned = span_df[~(span_df['game'].isin(extreme_games))]\n",
    "span_en_df_cleaned = span_en_df[~(span_en_df['game'].isin(extreme_games))]\n",
    "\n",
    "# 算出\n",
    "print(f\"{get_silence_info(span_df_cleaned)=}\")\n",
    "print(f\"{get_silence_info(span_en_df_cleaned)=}\")\n",
    "print(\"--------\")\n",
    "print(f\"{get_count_over_30_sec_silence(span_df_cleaned)=}\")\n",
    "print(f\"{get_count_over_30_sec_silence(span_en_df_cleaned)=}\")\n",
    "print(\"--------\")\n",
    "print(f\"{get_count_over_30_sec_silence_rate(span_df_cleaned)=}\")\n",
    "print(f\"{get_count_over_30_sec_silence_rate(span_en_df_cleaned)=}\")\n",
    "print(\"--------\")\n",
    "print(f\"{get_count_over_30_sec_start_gap(span_df_cleaned)=}\")\n",
    "print(f\"{get_count_over_30_sec_start_gap(span_en_df_cleaned)=}\")\n",
    "\n",
    "# 結果、ほとんど一緒になった\n",
    "# つまり、仮説は正しい"
   ]
  },
  {
   "cell_type": "code",
   "execution_count": 119,
   "metadata": {},
   "outputs": [
    {
     "name": "stdout",
     "output_type": "stream",
     "text": [
      "len(russian_games)=94\n",
      "len(extreme_games)=95\n",
      "len(set(russian_games) & set(extreme_games))=94\n"
     ]
    }
   ],
   "source": [
    "# 仮説：ロシア語実況のgame と extreme_game は一致しているのでは\n",
    "# 仮説検証\n",
    "import json\n",
    "\n",
    "from SoccerNet.Downloader import getListGames\n",
    "\n",
    "from sn_script.config import Config\n",
    "\n",
    "russian_path = Config.target_base_dir / \"textfiles\" / \"russian_games.txt\"\n",
    "\n",
    "if not russian_path.exists():\n",
    "\n",
    "    base_dir = Config.base_dir\n",
    "\n",
    "    suffix = \"_stable_version2\"\n",
    "    json_basename = \"1_224p\" + suffix + \".json\"\n",
    "    russian_games = []\n",
    "    for game in getListGames(\"all\"):\n",
    "        json_path = base_dir / str(game) / json_basename\n",
    "        if json_path.exists():\n",
    "            data = json.load(open(json_path))\n",
    "            if data['language'] == \"ru\":\n",
    "                russian_games.append(game)\n",
    "\n",
    "    print(f\"{len(russian_games)=}\")\n",
    "    print(*russian_games, sep=\"\\n\")\n",
    "\n",
    "    with open(russian_path, \"w\") as f:\n",
    "        f.write(\"\\n\".join(russian_games))\n",
    "else:\n",
    "    with open(russian_path) as f:\n",
    "        russian_games = f.read().splitlines()\n",
    "\n",
    "print(f\"{len(russian_games)=}\")\n",
    "print(f\"{len(extreme_games)=}\")\n",
    "print(f\"{len(set(russian_games) & set(extreme_games))=}\")\n",
    "\n",
    "# 結果、ロシア語実況のgame と extreme_game は一致している\n",
    "# len(russian_games)=94\n",
    "# len(extreme_games)=95\n",
    "# len(set(russian_games) & set(extreme_games))=94\n",
    "# つまり、仮説は正しい\n",
    "# さらにいうと、ロシア語のtranslateはうまくいかないことがわかった"
   ]
  },
  {
   "cell_type": "code",
   "execution_count": 130,
   "metadata": {},
   "outputs": [
    {
     "data": {
      "text/plain": [
       "{'italy_serie-a/2015-2016/2015-11-22 - 22-45 Inter 4 - 0 Frosinone'}"
      ]
     },
     "execution_count": 130,
     "metadata": {},
     "output_type": "execute_result"
    }
   ],
   "source": [
    "set(extreme_games) ^ set(russian_games)"
   ]
  },
  {
   "cell_type": "code",
   "execution_count": 105,
   "metadata": {},
   "outputs": [
    {
     "data": {
      "image/png": "[encoded data removed]",
      "text/plain": [
       "<Figure size 1000x1000 with 2 Axes>"
      ]
     },
     "metadata": {},
     "output_type": "display_data"
    }
   ],
   "source": [
    "# 探索的データ分析 -プロット-\n",
    "def get_grouped_by_game(df: pd.DataFrame) -> pd.DataFrame:\n",
    "    return df.groupby('game').size().reset_index(name='count')\n",
    "\n",
    "def plot_count_comments_per_game(df: pd.DataFrame, ax: plt.Axes, title: str):\n",
    "    df_grouped = get_grouped_by_game(df)\n",
    "    ax.hist(df_grouped['count'], bins=range(0, 2000, 50))\n",
    "    ax.set_ylim(0, 60)\n",
    "    ax.set_title(title)\n",
    "    ax.set_xlabel(\"count\")\n",
    "    ax.set_ylabel(\"num games\")\n",
    "    ax.grid()\n",
    "\n",
    "fig, ax = plt.subplots(2, 1, figsize=(10, 10))\n",
    "plot_count_comments_per_game(span_df_cleaned, ax[0], \"stable\")\n",
    "plot_count_comments_per_game(span_df_cleaned, ax[1], \"en\")"
   ]
  },
  {
   "cell_type": "code",
   "execution_count": 117,
   "metadata": {},
   "outputs": [
    {
     "name": "stdout",
     "output_type": "stream",
     "text": [
      "len(total_game)=468\n",
      "len(fewcomment_games)=34\n",
      "get_silence_info(span_df_cleaned_more)={'silence_mean': 1.9472382577039515, 'inverse_rate': 0.0021782913190831706}\n",
      "get_silence_info(span_en_df_cleaned_more)={'silence_mean': 2.139388744460419, 'inverse_rate': 0.0020382504770216103}\n",
      "--------\n",
      "get_count_over_30_sec_silence(span_df_cleaned_more)=1130\n",
      "get_count_over_30_sec_silence(span_en_df_cleaned_more)=1163\n",
      "--------\n",
      "get_count_over_30_sec_silence_rate(span_df_cleaned_more)=0.0034378061320726014\n",
      "get_count_over_30_sec_silence_rate(span_en_df_cleaned_more)=0.003440472140458828\n",
      "--------\n",
      "get_count_over_30_sec_start_gap(span_df_cleaned_more)=1853\n",
      "get_count_over_30_sec_start_gap(span_en_df_cleaned_more)=1862\n"
     ]
    },
    {
     "name": "stderr",
     "output_type": "stream",
     "text": [
      "/var/folders/8y/94zytg1j1h339lyf_x2r_ptr0000gn/T/ipykernel_26569/3494505697.py:3: SettingWithCopyWarning: \n",
      "A value is trying to be set on a copy of a slice from a DataFrame.\n",
      "Try using .loc[row_indexer,col_indexer] = value instead\n",
      "\n",
      "See the caveats in the documentation: https://pandas.pydata.org/pandas-docs/stable/user_guide/indexing.html#returning-a-view-versus-a-copy\n",
      "  df['prev_end'] = df['end'].shift(1)\n",
      "/var/folders/8y/94zytg1j1h339lyf_x2r_ptr0000gn/T/ipykernel_26569/3494505697.py:4: SettingWithCopyWarning: \n",
      "A value is trying to be set on a copy of a slice from a DataFrame.\n",
      "Try using .loc[row_indexer,col_indexer] = value instead\n",
      "\n",
      "See the caveats in the documentation: https://pandas.pydata.org/pandas-docs/stable/user_guide/indexing.html#returning-a-view-versus-a-copy\n",
      "  df['silence'] = (df['start'] - df['prev_end'])\n",
      "/var/folders/8y/94zytg1j1h339lyf_x2r_ptr0000gn/T/ipykernel_26569/230179459.py:2: SettingWithCopyWarning: \n",
      "A value is trying to be set on a copy of a slice from a DataFrame.\n",
      "Try using .loc[row_indexer,col_indexer] = value instead\n",
      "\n",
      "See the caveats in the documentation: https://pandas.pydata.org/pandas-docs/stable/user_guide/indexing.html#returning-a-view-versus-a-copy\n",
      "  df['prev_start'] = df['start'].shift(1)\n"
     ]
    }
   ],
   "source": [
    "def get_games_few_comments(df: pd.DataFrame, threshold: int) -> list:\n",
    "    df_grouped = get_grouped_by_game(df)\n",
    "    return df_grouped[df_grouped['count'] < threshold]['game'].to_list()\n",
    "\n",
    "cand_games_span = get_games_few_comments(span_df, 500)\n",
    "cand_games_span_en = get_games_few_comments(span_en_df, 500)\n",
    "\n",
    "fewcomment_games = set(cand_games_span) & set(cand_games_span_en)\n",
    "\n",
    "\n",
    "print(f\"{len(total_game)=}\")\n",
    "print(f\"{len(fewcomment_games)=}\")\n",
    "\n",
    "\n",
    "span_df_cleaned_more = span_df_cleaned[~(span_df_cleaned['game'].isin(fewcomment_games))]\n",
    "span_en_df_cleaned_more = span_en_df_cleaned[~(span_en_df_cleaned['game'].isin(fewcomment_games))]\n",
    "\n",
    "# 算出\n",
    "print(f\"{get_silence_info(span_df_cleaned_more)=}\")\n",
    "print(f\"{get_silence_info(span_en_df_cleaned_more)=}\")\n",
    "print(\"--------\")\n",
    "print(f\"{get_count_over_30_sec_silence(span_df_cleaned_more)=}\")\n",
    "print(f\"{get_count_over_30_sec_silence(span_en_df_cleaned_more)=}\")\n",
    "print(\"--------\")\n",
    "print(f\"{get_count_over_30_sec_silence_rate(span_df_cleaned_more)=}\")\n",
    "print(f\"{get_count_over_30_sec_silence_rate(span_en_df_cleaned_more)=}\")\n",
    "print(\"--------\")\n",
    "print(f\"{get_count_over_30_sec_start_gap(span_df_cleaned_more)=}\")\n",
    "print(f\"{get_count_over_30_sec_start_gap(span_en_df_cleaned_more)=}\")\n"
   ]
  },
  {
   "cell_type": "code",
   "execution_count": 121,
   "metadata": {},
   "outputs": [
    {
     "data": {
      "image/png": "[encoded data removed]",
      "text/plain": [
       "<Figure size 1000x1000 with 2 Axes>"
      ]
     },
     "metadata": {},
     "output_type": "display_data"
    }
   ],
   "source": [
    "fig, ax = plt.subplots(2, 1, figsize=(10, 10))\n",
    "\n",
    "\n",
    "plot_count_comments_per_game(span_df_cleaned_more, ax[0], \"stable\")\n",
    "plot_count_comments_per_game(span_df_cleaned_more, ax[1], \"en\")"
   ]
  },
  {
   "cell_type": "code",
   "execution_count": 122,
   "metadata": {},
   "outputs": [
    {
     "data": {
      "text/plain": [
       "339"
      ]
     },
     "execution_count": 122,
     "metadata": {},
     "output_type": "execute_result"
    }
   ],
   "source": [
    "game_list = span_df_cleaned_more['game'].unique().tolist()\n",
    "len(game_list)"
   ]
  },
  {
   "cell_type": "code",
   "execution_count": null,
   "metadata": {},
   "outputs": [],
   "source": [
    "# 対象保存\n",
    "extreme_games_txt = \"database/textfiles/extreme_games.txt\"\n",
    "with open(extreme_games_txt, \"w\") as f:\n",
    "    for game in extreme_games:\n",
    "        f.write(f\"{game}\\n\")\n",
    "\n",
    "fewcomment_games_txt = \"database/textfiles/fewcomment_games.txt\"\n",
    "with open(fewcomment_games_txt, \"w\") as f:\n",
    "    for game in fewcomment_games:\n",
    "        f.write(f\"{game}\\n\")"
   ]
  },
  {
   "cell_type": "code",
   "execution_count": 5,
   "metadata": {},
   "outputs": [
    {
     "name": "stderr",
     "output_type": "stream",
     "text": [
      "/var/folders/8y/94zytg1j1h339lyf_x2r_ptr0000gn/T/ipykernel_80394/1210138682.py:20: SettingWithCopyWarning: \n",
      "A value is trying to be set on a copy of a slice from a DataFrame.\n",
      "Try using .loc[row_indexer,col_indexer] = value instead\n",
      "\n",
      "See the caveats in the documentation: https://pandas.pydata.org/pandas-docs/stable/user_guide/indexing.html#returning-a-view-versus-a-copy\n",
      "  df['text'] = df['text'].str.strip()\n",
      "/var/folders/8y/94zytg1j1h339lyf_x2r_ptr0000gn/T/ipykernel_80394/1210138682.py:24: SettingWithCopyWarning: \n",
      "A value is trying to be set on a copy of a slice from a DataFrame\n",
      "\n",
      "See the caveats in the documentation: https://pandas.pydata.org/pandas-docs/stable/user_guide/indexing.html#returning-a-view-versus-a-copy\n",
      "  df.loc[binary_category_name] = None\n",
      "/var/folders/8y/94zytg1j1h339lyf_x2r_ptr0000gn/T/ipykernel_80394/1210138682.py:25: SettingWithCopyWarning: \n",
      "A value is trying to be set on a copy of a slice from a DataFrame\n",
      "\n",
      "See the caveats in the documentation: https://pandas.pydata.org/pandas-docs/stable/user_guide/indexing.html#returning-a-view-versus-a-copy\n",
      "  df.loc[subcategory_name] = None\n",
      "/var/folders/8y/94zytg1j1h339lyf_x2r_ptr0000gn/T/ipykernel_80394/1210138682.py:26: SettingWithCopyWarning: \n",
      "A value is trying to be set on a copy of a slice from a DataFrame\n",
      "\n",
      "See the caveats in the documentation: https://pandas.pydata.org/pandas-docs/stable/user_guide/indexing.html#returning-a-view-versus-a-copy\n",
      "  df.loc[\"備考\"] = None\n",
      "/var/folders/8y/94zytg1j1h339lyf_x2r_ptr0000gn/T/ipykernel_80394/1210138682.py:20: SettingWithCopyWarning: \n",
      "A value is trying to be set on a copy of a slice from a DataFrame.\n",
      "Try using .loc[row_indexer,col_indexer] = value instead\n",
      "\n",
      "See the caveats in the documentation: https://pandas.pydata.org/pandas-docs/stable/user_guide/indexing.html#returning-a-view-versus-a-copy\n",
      "  df['text'] = df['text'].str.strip()\n",
      "/var/folders/8y/94zytg1j1h339lyf_x2r_ptr0000gn/T/ipykernel_80394/1210138682.py:24: SettingWithCopyWarning: \n",
      "A value is trying to be set on a copy of a slice from a DataFrame\n",
      "\n",
      "See the caveats in the documentation: https://pandas.pydata.org/pandas-docs/stable/user_guide/indexing.html#returning-a-view-versus-a-copy\n",
      "  df.loc[binary_category_name] = None\n",
      "/var/folders/8y/94zytg1j1h339lyf_x2r_ptr0000gn/T/ipykernel_80394/1210138682.py:25: SettingWithCopyWarning: \n",
      "A value is trying to be set on a copy of a slice from a DataFrame\n",
      "\n",
      "See the caveats in the documentation: https://pandas.pydata.org/pandas-docs/stable/user_guide/indexing.html#returning-a-view-versus-a-copy\n",
      "  df.loc[subcategory_name] = None\n",
      "/var/folders/8y/94zytg1j1h339lyf_x2r_ptr0000gn/T/ipykernel_80394/1210138682.py:26: SettingWithCopyWarning: \n",
      "A value is trying to be set on a copy of a slice from a DataFrame\n",
      "\n",
      "See the caveats in the documentation: https://pandas.pydata.org/pandas-docs/stable/user_guide/indexing.html#returning-a-view-versus-a-copy\n",
      "  df.loc[\"備考\"] = None\n"
     ]
    }
   ],
   "source": [
    "# 保存する\n",
    "import os\n",
    "from collections.abc import Callable\n",
    "\n",
    "import pandas as pd\n",
    "\n",
    "from sn_script.config import binary_category_name, subcategory_name\n",
    "\n",
    "denoised_stable_csv = \"database/denoised/500game_stable_version2.csv\"\n",
    "denoised_stable_en_csv = \"database/denoised/500game_stable_en.csv\"\n",
    "\n",
    "def drop_unnecessary(df: pd.DataFrame) -> pd.DataFrame:\n",
    "    necessary_columns = [\"id\", \"game\", \"half\", \"start\", \"end\", \"text\"]\n",
    "    return df[necessary_columns]\n",
    "\n",
    "def strip_text(df: pd.DataFrame) -> pd.DataFrame:\n",
    "    df['text'] = df['text'].str.strip()\n",
    "    return df\n",
    "\n",
    "def add_columns_for_label(df: pd.DataFrame) -> pd.DataFrame:\n",
    "    df.loc[:, binary_category_name] = None\n",
    "    df.loc[:, subcategory_name] = None\n",
    "    df.loc[:, \"備考\"] = None\n",
    "    return df\n",
    "\n",
    "def sort_appropriate(df: pd.DataFrame) -> pd.DataFrame:\n",
    "    df = df.sort_values(by=['game', 'half', 'start'])\n",
    "    return df\n",
    "\n",
    "def reset_index_and_drop(df: pd.DataFrame) -> pd.DataFrame:\n",
    "    df = df.reset_index(drop=True)\n",
    "    df[\"id\"] = df.index\n",
    "    return df\n",
    "\n",
    "def preprocess_dataframe(\n",
    "    df: pd.DataFrame,\n",
    "    callbacks: list[Callable[[pd.DataFrame], pd.DataFrame]]\n",
    ") -> pd.DataFrame:\n",
    "    for callback in callbacks:\n",
    "        df = callback(df)\n",
    "    return df\n",
    "\n",
    "callbacks = [\n",
    "    drop_unnecessary,\n",
    "    strip_text,\n",
    "    add_columns_for_label,\n",
    "    sort_appropriate,\n",
    "    reset_index_and_drop\n",
    "]\n",
    "\n",
    "if os.path.exists(denoised_stable_csv):\n",
    "    span_df_cleaned_more = pd.read_csv(denoised_stable_csv)\n",
    "if os.path.exists(denoised_stable_en_csv):\n",
    "    span_en_df_cleaned_more = pd.read_csv(denoised_stable_en_csv)\n",
    "\n",
    "preprocess_dataframe(span_df_cleaned_more, callbacks).to_csv(denoised_stable_csv, index=False)\n",
    "preprocess_dataframe(span_en_df_cleaned_more, callbacks).to_csv(denoised_stable_en_csv, index=False)"
   ]
  }
 ],
 "metadata": {
  "kernelspec": {
   "display_name": ".venv",
   "language": "python",
   "name": "python3"
  },
  "language_info": {
   "codemirror_mode": {
    "name": "ipython",
    "version": 3
   },
   "file_extension": ".py",
   "mimetype": "text/x-python",
   "name": "python",
   "nbconvert_exporter": "python",
   "pygments_lexer": "ipython3",
   "version": "3.11.3"
  }
 },
 "nbformat": 4,
 "nbformat_minor": 2
}
