{
 "cells": [
  {
   "cell_type": "code",
   "execution_count": 1,
   "metadata": {},
   "outputs": [
    {
     "name": "stdout",
     "output_type": "stream",
     "text": [
      "/Users/heste/workspace/soccernet/sn-script\n"
     ]
    },
    {
     "data": {
      "text/plain": [
       "'/Users/heste/workspace/soccernet/sn-script'"
      ]
     },
     "execution_count": 1,
     "metadata": {},
     "output_type": "execute_result"
    }
   ],
   "source": [
    "# move to project root\n",
    "%cd ..\n",
    "%pwd"
   ]
  },
  {
   "cell_type": "code",
   "execution_count": 2,
   "metadata": {},
   "outputs": [],
   "source": [
    "import os\n",
    "from dataclasses import dataclass\n",
    "from pathlib import Path\n",
    "\n",
    "import matplotlib\n",
    "import numpy as np\n",
    "import pandas as pd\n",
    "from matplotlib import pylab as plt_lab\n",
    "from matplotlib import pyplot as plt\n",
    "from sn_script.config import binary_category_name\n",
    "from sn_script.csv_utils import gametime_to_seconds, seconds_to_gametime\n",
    "from tqdm import tqdm\n",
    "\n",
    "# matplotlibのデフォルトフォントをTakaoGothicに設定\n",
    "font = {\"family\": \"IPAexGothic\"}\n",
    "matplotlib.rc(\"font\", **font)\n",
    "plt_lab.rcParams.update({\"font.size\": 22})"
   ]
  },
  {
   "cell_type": "code",
   "execution_count": 3,
   "metadata": {},
   "outputs": [],
   "source": [
    "@dataclass\n",
    "class Config:\n",
    "    csv_path = Path('database/stable/scbi-v2.csv')\n",
    "    sncaption_path = Path('database/misc/soccernet_labels.csv')"
   ]
  },
  {
   "cell_type": "code",
   "execution_count": 4,
   "metadata": {},
   "outputs": [],
   "source": [
    "scbi_df = pd.read_csv(Config.csv_path)\n",
    "sncaption_df = pd.read_csv(Config.sncaption_path)"
   ]
  },
  {
   "cell_type": "code",
   "execution_count": null,
   "metadata": {},
   "outputs": [],
   "source": [
    "scbi_df.columns"
   ]
  },
  {
   "cell_type": "code",
   "execution_count": 18,
   "metadata": {},
   "outputs": [
    {
     "data": {
      "text/html": [
       "<div>\n",
       "<style scoped>\n",
       "    .dataframe tbody tr th:only-of-type {\n",
       "        vertical-align: middle;\n",
       "    }\n",
       "\n",
       "    .dataframe tbody tr th {\n",
       "        vertical-align: top;\n",
       "    }\n",
       "\n",
       "    .dataframe thead th {\n",
       "        text-align: right;\n",
       "    }\n",
       "</style>\n",
       "<table border=\"1\" class=\"dataframe\">\n",
       "  <thead>\n",
       "    <tr style=\"text-align: right;\">\n",
       "      <th></th>\n",
       "      <th>start</th>\n",
       "      <th>end</th>\n",
       "      <th>text</th>\n",
       "      <th>付加的情報か</th>\n",
       "    </tr>\n",
       "  </thead>\n",
       "  <tbody>\n",
       "    <tr>\n",
       "      <th>0</th>\n",
       "      <td>0.01</td>\n",
       "      <td>2.55</td>\n",
       "      <td>The duel has already begun, Barley is in control.</td>\n",
       "      <td>0</td>\n",
       "    </tr>\n",
       "    <tr>\n",
       "      <th>1</th>\n",
       "      <td>2.57</td>\n",
       "      <td>9.72</td>\n",
       "      <td>They were also measured in the first match of ...</td>\n",
       "      <td>1</td>\n",
       "    </tr>\n",
       "    <tr>\n",
       "      <th>2</th>\n",
       "      <td>9.78</td>\n",
       "      <td>10.86</td>\n",
       "      <td>Barley advanced.</td>\n",
       "      <td>1</td>\n",
       "    </tr>\n",
       "    <tr>\n",
       "      <th>3</th>\n",
       "      <td>11.30</td>\n",
       "      <td>14.47</td>\n",
       "      <td>It must be remembered that he advanced in that...</td>\n",
       "      <td>1</td>\n",
       "    </tr>\n",
       "    <tr>\n",
       "      <th>4</th>\n",
       "      <td>14.91</td>\n",
       "      <td>17.85</td>\n",
       "      <td>without too many difficulties.</td>\n",
       "      <td>0</td>\n",
       "    </tr>\n",
       "    <tr>\n",
       "      <th>5</th>\n",
       "      <td>17.87</td>\n",
       "      <td>19.22</td>\n",
       "      <td>Exactly, that's what I was going to say.</td>\n",
       "      <td>0</td>\n",
       "    </tr>\n",
       "    <tr>\n",
       "      <th>6</th>\n",
       "      <td>19.24</td>\n",
       "      <td>20.20</td>\n",
       "      <td>I remember that game very well.</td>\n",
       "      <td>0</td>\n",
       "    </tr>\n",
       "    <tr>\n",
       "      <th>7</th>\n",
       "      <td>20.22</td>\n",
       "      <td>22.46</td>\n",
       "      <td>Barley started well, scored a goal, but Chelse...</td>\n",
       "      <td>0</td>\n",
       "    </tr>\n",
       "    <tr>\n",
       "      <th>8</th>\n",
       "      <td>22.48</td>\n",
       "      <td>26.26</td>\n",
       "      <td>That's why today shouldn't have any problems, ...</td>\n",
       "      <td>0</td>\n",
       "    </tr>\n",
       "    <tr>\n",
       "      <th>9</th>\n",
       "      <td>33.60</td>\n",
       "      <td>37.62</td>\n",
       "      <td>He started with the ball to Cuadrado, left it ...</td>\n",
       "      <td>0</td>\n",
       "    </tr>\n",
       "    <tr>\n",
       "      <th>10</th>\n",
       "      <td>38.08</td>\n",
       "      <td>40.42</td>\n",
       "      <td>Chelsea, who is on the right side of the scree...</td>\n",
       "      <td>0</td>\n",
       "    </tr>\n",
       "    <tr>\n",
       "      <th>11</th>\n",
       "      <td>41.54</td>\n",
       "      <td>43.66</td>\n",
       "      <td>To the left, Barley.</td>\n",
       "      <td>0</td>\n",
       "    </tr>\n",
       "    <tr>\n",
       "      <th>12</th>\n",
       "      <td>44.10</td>\n",
       "      <td>47.97</td>\n",
       "      <td>Cuadrado, who again receives an opportunity as...</td>\n",
       "      <td>1</td>\n",
       "    </tr>\n",
       "    <tr>\n",
       "      <th>13</th>\n",
       "      <td>48.29</td>\n",
       "      <td>51.23</td>\n",
       "      <td>Today he does it again, he played the other da...</td>\n",
       "      <td>0</td>\n",
       "    </tr>\n",
       "    <tr>\n",
       "      <th>14</th>\n",
       "      <td>52.04</td>\n",
       "      <td>62.65</td>\n",
       "      <td>The ones that are not from the Chelsea XI woul...</td>\n",
       "      <td>1</td>\n",
       "    </tr>\n",
       "    <tr>\n",
       "      <th>15</th>\n",
       "      <td>62.67</td>\n",
       "      <td>66.77</td>\n",
       "      <td>The rest of the team is the one who has been p...</td>\n",
       "      <td>1</td>\n",
       "    </tr>\n",
       "    <tr>\n",
       "      <th>16</th>\n",
       "      <td>68.24</td>\n",
       "      <td>72.54</td>\n",
       "      <td>We have a team that is more than competitive, ...</td>\n",
       "      <td>0</td>\n",
       "    </tr>\n",
       "    <tr>\n",
       "      <th>17</th>\n",
       "      <td>72.56</td>\n",
       "      <td>75.32</td>\n",
       "      <td>It opens up to Eden Hazard.</td>\n",
       "      <td>0</td>\n",
       "    </tr>\n",
       "    <tr>\n",
       "      <th>18</th>\n",
       "      <td>75.64</td>\n",
       "      <td>80.72</td>\n",
       "      <td>Hazard, who was looking to win the back line, ...</td>\n",
       "      <td>0</td>\n",
       "    </tr>\n",
       "    <tr>\n",
       "      <th>19</th>\n",
       "      <td>80.80</td>\n",
       "      <td>82.94</td>\n",
       "      <td>Cuadrado leaves the ball behind for Matic.</td>\n",
       "      <td>0</td>\n",
       "    </tr>\n",
       "  </tbody>\n",
       "</table>\n",
       "</div>"
      ],
      "text/plain": [
       "    start    end                                               text  付加的情報か\n",
       "0    0.01   2.55  The duel has already begun, Barley is in control.       0\n",
       "1    2.57   9.72  They were also measured in the first match of ...       1\n",
       "2    9.78  10.86                                   Barley advanced.       1\n",
       "3   11.30  14.47  It must be remembered that he advanced in that...       1\n",
       "4   14.91  17.85                     without too many difficulties.       0\n",
       "5   17.87  19.22           Exactly, that's what I was going to say.       0\n",
       "6   19.24  20.20                    I remember that game very well.       0\n",
       "7   20.22  22.46  Barley started well, scored a goal, but Chelse...       0\n",
       "8   22.48  26.26  That's why today shouldn't have any problems, ...       0\n",
       "9   33.60  37.62  He started with the ball to Cuadrado, left it ...       0\n",
       "10  38.08  40.42  Chelsea, who is on the right side of the scree...       0\n",
       "11  41.54  43.66                               To the left, Barley.       0\n",
       "12  44.10  47.97  Cuadrado, who again receives an opportunity as...       1\n",
       "13  48.29  51.23  Today he does it again, he played the other da...       0\n",
       "14  52.04  62.65  The ones that are not from the Chelsea XI woul...       1\n",
       "15  62.67  66.77  The rest of the team is the one who has been p...       1\n",
       "16  68.24  72.54  We have a team that is more than competitive, ...       0\n",
       "17  72.56  75.32                        It opens up to Eden Hazard.       0\n",
       "18  75.64  80.72  Hazard, who was looking to win the back line, ...       0\n",
       "19  80.80  82.94         Cuadrado leaves the ball behind for Matic.       0"
      ]
     },
     "execution_count": 18,
     "metadata": {},
     "output_type": "execute_result"
    }
   ],
   "source": [
    "# データの確認\n",
    "target_game = \"england_epl/2015-2016/2015-08-29 - 17-00 Chelsea 1 - 2 Crystal Palace\"\n",
    "target_game = \"england_epl/2014-2015/2015-02-21 - 18-00 Chelsea 1 - 1 Burnley\"\n",
    "\n",
    "scbi_df.loc[\n",
    "    scbi_df['game'] == target_game,\n",
    "    [ \"start\", \"end\", \"text\", binary_category_name]\n",
    "].head(20)"
   ]
  },
  {
   "cell_type": "code",
   "execution_count": null,
   "metadata": {},
   "outputs": [],
   "source": [
    "# 映像の統計情報\n",
    "# 試合数\n",
    "n_games = scbi_df['game'].nunique()\n",
    "print(f\"Number of games: {n_games}\")\n",
    "# 総合時間\n",
    "group_per_video = scbi_df.groupby(['game', 'half'])\n",
    "durations = group_per_video['end'].max() - group_per_video['start'].min()\n",
    "durations.index = group_per_video['game'].first()\n",
    "total_duration = durations.sum()\n",
    "print(f\"Total duration: {total_duration}\")\n"
   ]
  },
  {
   "cell_type": "code",
   "execution_count": null,
   "metadata": {},
   "outputs": [],
   "source": [
    "# コメントの統計情報\n",
    "# Total # of utterances\n",
    "total_num_utterances = scbi_df.shape[0]\n",
    "print(f\"Total # of utterances: {total_num_utterances}\")\n",
    "# avg. # of utterances video (game, half)\n",
    "avg_num_utterances_per_game = scbi_df.groupby(['game', 'half']).size().mean()\n",
    "print(f\"avg. # of utterances per game: {avg_num_utterances_per_game:.2f}\")\n",
    "# avg. # of characters per utterance\n",
    "avg_chars_per_utterance = scbi_df['text'].dropna().apply(len).mean()\n",
    "print(f\"avg. # of characters per utterance: {avg_chars_per_utterance:.2f}\")\n",
    "# avg. length of an utterance (sec)\n",
    "avg_chars_per_utterance = (scbi_df['end'] - scbi_df['start']).mean()\n",
    "print(f\"avg. length of an utterance: {avg_chars_per_utterance:.2f}\")\n",
    "# avg. length of silence (sec)\n",
    "scbi_df['prev_end'] = scbi_df['end'].shift(1)\n",
    "scbi_df['silence'] = (scbi_df['start'] - scbi_df['prev_end'])\n",
    "scbi_df.loc[scbi_df['silence'] < 0, 'silence'] = None\n",
    "silence_mean = scbi_df['silence'].mean(skipna=True)\n",
    "print(f\"avg. length of silence: {silence_mean:.2f}\")\n"
   ]
  },
  {
   "cell_type": "code",
   "execution_count": null,
   "metadata": {},
   "outputs": [],
   "source": [
    "# 分析\n",
    "# 全体におけるラベルの割合\n",
    "print(scbi_df[binary_category_name].value_counts(normalize=True))\n",
    "# ラベルの数\n",
    "print(scbi_df[binary_category_name].value_counts())\n",
    "\n",
    "# 結果、付加的情報が18%あった\n",
    "# つまり、無視できない割合存在する"
   ]
  },
  {
   "cell_type": "code",
   "execution_count": null,
   "metadata": {},
   "outputs": [],
   "source": [
    "# 増加タイミングの分析1\n",
    "# 時間帯(5分でbinning)ごとのラベルの割合\n",
    "def plot_label_ratio_by_time(df: pd.DataFrame):\n",
    "    fig, ax = plt.subplots(1, 2, figsize=(20, 10))\n",
    "\n",
    "    df[\"start_bin\"] = (\n",
    "        df[\"start\"] // 300\n",
    "    )\n",
    "\n",
    "    df_half_1 = df.loc[df[\"half\"] == 1]\n",
    "    piv_1_df = df_half_1.pivot_table(\n",
    "        index=\"start_bin\", columns=binary_category_name, aggfunc=\"count\", values=\"text\"\n",
    "    )\n",
    "    piv_1_df.index = [seconds_to_gametime(i * 300) + \"~\" for i in piv_1_df.index]\n",
    "    (piv_1_df[1.0] / piv_1_df.sum(axis=1)).plot(\n",
    "        xlabel=\"試合時間\",\n",
    "        ylabel=\"割合\",\n",
    "        title=\"前半\",\n",
    "        ylim=(0, 0.30),\n",
    "        ax=ax[0]\n",
    "    )\n",
    "    # 後半\n",
    "    half_offset = 2700\n",
    "    df_half_2 = df.loc[df[\"half\"] == 2]\n",
    "\n",
    "    piv_2_df = df_half_2.pivot_table(\n",
    "        index=\"start_bin\", columns=binary_category_name, aggfunc=\"count\", values=\"text\"\n",
    "    )\n",
    "    piv_2_df.index = [seconds_to_gametime(i * 300 + half_offset) + \"~\" for i in piv_2_df.index]\n",
    "    (piv_2_df[1.0] / piv_2_df.sum(axis=1)).plot(\n",
    "        xlabel=\"試合時間\",\n",
    "        ylabel=\"割合\",\n",
    "        title=\"後半\",\n",
    "        ylim=(0, 0.30),\n",
    "        ax=ax[1]\n",
    "    )\n",
    "    # 保存\n",
    "    fig.savefig(\"database/images/scbi_v2-label_ratio_by_time.png\")\n",
    "\n",
    "plot_label_ratio_by_time(scbi_df)"
   ]
  },
  {
   "cell_type": "code",
   "execution_count": null,
   "metadata": {},
   "outputs": [],
   "source": [
    "# 増加タイミングの分析2\n",
    "# イベント周辺でのラベルの割合\n",
    "def label_ratio_around_event(df: pd.DataFrame, action_df: pd.DataFrame = sncaption_df, window_size=5):\n",
    "    \"\"\"\n",
    "    event_df (sn-captionの速報テキストデータ) の importantなコメントの前後5秒に含まれる， df の実況コメントのラベルの割合を調べる手順\n",
    "    1. dfの書くコメントの is_important を False で初期化\n",
    "    2. soccernet_df を game でグループ化する\n",
    "    2. game ごとに，\n",
    "        - soccernet_dfの各行について df の start が action_df の各アクションの start, end に含まれるかを計算する\n",
    "        - 含まれるなら， df のカラム refer_$action_label を追加し，Trueにする\n",
    "    3. df[refer_$action_label] = True の付加的情報かの割合を計算する\n",
    "    \"\"\"\n",
    "\n",
    "    if action_df[\"time\"].dtype == \"O\":\n",
    "        action_df[\"time\"] = action_df[\"time\"].apply(gametime_to_seconds)\n",
    "    action_df[\"start\"] = action_df[\"time\"] - 5\n",
    "    action_df[\"end\"] = action_df[\"time\"] + 5\n",
    "\n",
    "    # game, half, time でソート\n",
    "    action_df = action_df.sort_values(by=[\"game\", \"half\", \"start\"])\n",
    "\n",
    "    # イベントラベルのリスト\n",
    "    action_grouped = action_df.groupby(\"label\")\n",
    "    action_labels = action_grouped.size().index\n",
    "    print(\"Unique labels:\")\n",
    "    print(*action_labels, sep=\"\\n\") # nanを除く\n",
    "\n",
    "    # 各アクションのフラグ列を一時的に保持するための辞書を作成\n",
    "    new_columns = {}\n",
    "\n",
    "    # イベント周辺のコメントにフラグを立てる\n",
    "    for action_label, action_df_subset in tqdm(action_grouped):\n",
    "        if f\"refer_{action_label}\" in df.columns:\n",
    "            print(f\"refer_{action_label} is already in df.columns\")\n",
    "            continue\n",
    "        new_columns[f\"refer_{action_label}\"] = np.zeros(len(df), dtype=bool)\n",
    "        tqdm.write(f\"Processing {action_label}\")\n",
    "        for _, action_row in tqdm(action_df_subset.iterrows()):\n",
    "            # dfを直接更新するために、適切なインデックスを取得\n",
    "            indices = df[\n",
    "                (df[\"game\"] == action_row[\"game\"])\n",
    "                & (df[\"half\"] == action_row[\"half\"])\n",
    "                & (df[\"start\"] >= action_row[\"start\"])\n",
    "                & (df[\"start\"] <= action_row[\"end\"])\n",
    "            ].index\n",
    "            new_columns[f\"refer_{action_label}\"][indices] = True\n",
    "\n",
    "    # 新しい列を追加\n",
    "    df = pd.concat([df, pd.DataFrame(new_columns)], axis=1)\n",
    "\n",
    "    # イベント周辺のコメントの割合を計算\n",
    "    for action_label in action_labels:\n",
    "        if f\"refer_{action_label}\" not in df.columns:\n",
    "            print(f\"refer_{action_label} is not in df.columns\")\n",
    "            continue\n",
    "        refer_count = df.loc[:, f\"refer_{action_label}\"].sum() # noqa\n",
    "        additional_info_refer_count = df.loc[\n",
    "            (df[f\"refer_{action_label}\"] == True) # noqa\n",
    "            & (df[binary_category_name] == 1),\n",
    "            f\"refer_{action_label}\",\n",
    "        ].sum()\n",
    "\n",
    "\n",
    "        print(f\"推定の{action_label}言及コメント数: {refer_count}\")\n",
    "        print(f\"推定の{action_label}言及付加的情報コメント数: {additional_info_refer_count}\")\n",
    "        if refer_count == 0:\n",
    "            continue\n",
    "        else:\n",
    "            print(\n",
    "                f\"推定の{action_label}言及コメントの付加的情報の割合 {additional_info_refer_count / refer_count * 100}%\"\n",
    "            )\n",
    "\n",
    "label_ratio_around_event(scbi_df, sncaption_df)"
   ]
  },
  {
   "cell_type": "code",
   "execution_count": null,
   "metadata": {},
   "outputs": [],
   "source": [
    "# 増加タイミングの分析3\n",
    "# 沈黙時間とラベルの割合の関係\n",
    "def label_ratio_by_silence(df: pd.DataFrame):\n",
    "    # intervalカラムを追加\n",
    "    df[\"prev_end\"] = df[\"end\"].shift(1)\n",
    "    df[\"interval\"] = df[\"start\"] - df[\"prev_end\"]\n",
    "    df.loc[df[\"interval\"] < 0, \"interval\"] = None\n",
    "\n",
    "    # 文字の長さを確認\n",
    "    df['word_count'] = df['text'].str.split().str.len()\n",
    "\n",
    "\n",
    "    # インターバルが30秒以上のものを表示\n",
    "    for interval_length in [0.01, 0.1, 0.5, 1, 2, 4, 10, 20, 30, 40, 50, 60]:\n",
    "        df[f\"interval_over_{interval_length}\"] = (\n",
    "            df[\"interval\"] > interval_length\n",
    "        )\n",
    "        # 全コメント　interval_length秒以上の沈黙の後の発話テキストのラベル\n",
    "        rate1 = df[f\"interval_over_{interval_length}\"].sum() / len(df)\n",
    "\n",
    "        # 付加的情報のみ　interval_length秒以上の沈黙の後の発話テキストのラベル\n",
    "        rate2 = df[df[binary_category_name] == 1][\n",
    "            f\"interval_over_{interval_length}\"\n",
    "        ].sum() / len(df[df[binary_category_name] == 1])\n",
    "\n",
    "        print(\n",
    "            \"全コメント{}秒インターバル後の発話数:{}\\n付加的情報のみの{}秒インターバル後の発話数:{}\".format(\n",
    "                interval_length,\n",
    "                df[f\"interval_over_{interval_length}\"].sum(),\n",
    "                interval_length,\n",
    "                df[df[binary_category_name] == 1][\n",
    "                    f\"interval_over_{interval_length}\"\n",
    "                ].sum(),\n",
    "            )\n",
    "        )\n",
    "\n",
    "        print(f\"rate1: {rate1:%}\\nrate2: {rate2:%}\")\n",
    "\n",
    "        # word_countの平均\n",
    "        avg_word_count = df.loc[\n",
    "            df[f\"interval_over_{interval_length}\"] == True, # noqa\n",
    "            'word_count'\n",
    "        ].mean()\n",
    "        print(f\"word_countの平均: {avg_word_count}\")\n",
    "\n",
    "\n",
    "label_ratio_by_silence(scbi_df)\n",
    "\n",
    "# scbi-v1と真逆だった最悪"
   ]
  },
  {
   "cell_type": "code",
   "execution_count": null,
   "metadata": {},
   "outputs": [],
   "source": [
    "#データの品質チェック\n",
    "# オーバーラップの確認\n",
    "def overlap_check(df: pd.DataFrame):\n",
    "    df['overlap'] = df[\"prev_end\"] - df[\"start\"]\n",
    "    rate = len(df[df['overlap'] > 0]) / len(df)\n",
    "    print(f\"Overlapping rate: {rate:.2f}\")\n",
    "\n",
    "overlap_check(scbi_df)"
   ]
  },
  {
   "cell_type": "code",
   "execution_count": null,
   "metadata": {},
   "outputs": [],
   "source": [
    "# ラベルの特徴\n",
    "# word_countとラベルの関係 箱ひげ図で可視化\n",
    "def label_by_column(column: str, df: pd.DataFrame):\n",
    "    fig, ax = plt.subplots(figsize=(20, 10))\n",
    "    filtered_df = df.loc[df[binary_category_name].isin([0, 1])]\n",
    "\n",
    "    filtered_df.boxplot(column=column, by=binary_category_name, ax=ax)\n",
    "    ax.set_ylim(0, 60)\n",
    "    ax.set_xlabel(\"ラベル\")\n",
    "    ax.set_ylabel(column)\n",
    "    ax.set_title(f\"{column}とラベルの関係\")\n",
    "    fig.savefig(f\"database/images/scbi_v2-label_by_{column}.png\")\n",
    "\n",
    "label_by_column(\"word_count\", scbi_df)"
   ]
  },
  {
   "cell_type": "code",
   "execution_count": null,
   "metadata": {},
   "outputs": [],
   "source": [
    "scbi_df['duration'] = scbi_df['end'] - scbi_df['start']\n",
    "label_by_column(\"duration\", scbi_df)"
   ]
  },
  {
   "cell_type": "code",
   "execution_count": null,
   "metadata": {},
   "outputs": [],
   "source": [
    "# word_countと binary_category_nameの割合 の相関\n",
    "def plot_label_ratio_by_column(column: str, df: pd.DataFrame):\n",
    "    fig, ax = plt.subplots(figsize=(10, 10))\n",
    "    filtered_df = df.loc[\n",
    "        (df[binary_category_name].isin([0, 1])) &\n",
    "        (df[column] > 0)\n",
    "    ]\n",
    "\n",
    "    # 5で割って丸めてグルーピング\n",
    "    filtered_df[column] = filtered_df[column].apply(lambda x: int(x) // 5 * 5)\n",
    "\n",
    "    # xlimを決めるために、word_countの3シグマを計算\n",
    "    mu = df[column].mean()\n",
    "    sigma = df[column].std()\n",
    "    xlim = (max(mu - 3 * sigma, 0), round(mu + 3 * sigma))\n",
    "    print(f\" mu: {mu}, sigma: {sigma}\")\n",
    "    print(f\" xlim: {xlim}\")\n",
    "\n",
    "    # xlimの範囲でデータをフィルタリング\n",
    "    filtered_df = filtered_df.loc[\n",
    "        (filtered_df[column] >= xlim[0]) & (filtered_df[column] <= xlim[1])\n",
    "    ]\n",
    "\n",
    "\n",
    "    piv_df = filtered_df.pivot_table(\n",
    "        index=column, columns=binary_category_name, aggfunc=\"count\", values=\"text\"\n",
    "    )\n",
    "    piv_df = piv_df.fillna(0)\n",
    "    # 割合に変換?\n",
    "    piv_df = piv_df.div(piv_df.sum(axis=1), axis=0)\n",
    "\n",
    "    piv_df.plot(\n",
    "        kind=\"bar\",\n",
    "        stacked=True,\n",
    "        ax=ax,\n",
    "    )\n",
    "\n",
    "    ax.set_xlabel(column)\n",
    "    ax.set_ylabel(\"割合\")\n",
    "    ax.set_title(f\"{column}とラベルの割合の関係\")\n",
    "\n",
    "    fig.savefig(f\"database/images/scbi_v2-label_ratio_by_{column}.png\")\n",
    "\n",
    "\n",
    "plot_label_ratio_by_column(\"word_count\", scbi_df)\n",
    "# 文字数が多いほど付加的情報の割合が高い という当たり前のことを示した"
   ]
  },
  {
   "cell_type": "code",
   "execution_count": null,
   "metadata": {},
   "outputs": [],
   "source": [
    "# sn-echoes avarage unique word ratio\n",
    "# (unique word count divided by the the number of total words)\n",
    "def avg_unique_word_ratio(df: pd.DataFrame):\n",
    "    # unique_word_ratio を video (game, half) ごとに計算して平均を取る\n",
    "    filtered_df = df.loc[df['text'].notnull()].copy()\n",
    "\n",
    "    group_per_video = filtered_df.groupby(['game', 'half'])\n",
    "    text_chunk = group_per_video['text'].apply(lambda x: ' '.join(x))\n",
    "    unique_word_ratio = text_chunk.apply(\n",
    "        lambda x: len(set(x.split())) / len(x.split())\n",
    "    )\n",
    "\n",
    "    # 平均を取る\n",
    "    avg_unique_word_ratio = unique_word_ratio.mean()\n",
    "    print(f\"Average unique word ratio: {avg_unique_word_ratio:.3f}\")\n",
    "avg_unique_word_ratio(scbi_df)\n",
    "\n",
    "# 結果、Average unique word ratio: 0.292\n",
    "# sn-echoesは large-v3で0.370だった\n",
    "# 低い->書き起こしの品質が悪いと、sn-echoesでは仮定していたけど、そもそもそれは間違いだと考えるべき"
   ]
  },
  {
   "cell_type": "code",
   "execution_count": 20,
   "metadata": {},
   "outputs": [
    {
     "name": "stderr",
     "output_type": "stream",
     "text": [
      "[nltk_data] Downloading collection 'all'\n",
      "[nltk_data]    | \n",
      "[nltk_data]    | Downloading package abc to /Users/heste/nltk_data...\n",
      "[nltk_data]    |   Package abc is already up-to-date!\n",
      "[nltk_data]    | Downloading package alpino to\n",
      "[nltk_data]    |     /Users/heste/nltk_data...\n",
      "[nltk_data]    |   Package alpino is already up-to-date!\n",
      "[nltk_data]    | Downloading package averaged_perceptron_tagger to\n",
      "[nltk_data]    |     /Users/heste/nltk_data...\n",
      "[nltk_data]    |   Package averaged_perceptron_tagger is already up-\n",
      "[nltk_data]    |       to-date!\n",
      "[nltk_data]    | Downloading package averaged_perceptron_tagger_eng to\n",
      "[nltk_data]    |     /Users/heste/nltk_data...\n",
      "[nltk_data]    |   Package averaged_perceptron_tagger_eng is already\n",
      "[nltk_data]    |       up-to-date!\n",
      "[nltk_data]    | Downloading package averaged_perceptron_tagger_ru to\n",
      "[nltk_data]    |     /Users/heste/nltk_data...\n",
      "[nltk_data]    |   Package averaged_perceptron_tagger_ru is already\n",
      "[nltk_data]    |       up-to-date!\n",
      "[nltk_data]    | Downloading package averaged_perceptron_tagger_rus to\n",
      "[nltk_data]    |     /Users/heste/nltk_data...\n",
      "[nltk_data]    |   Package averaged_perceptron_tagger_rus is already\n",
      "[nltk_data]    |       up-to-date!\n",
      "[nltk_data]    | Downloading package basque_grammars to\n",
      "[nltk_data]    |     /Users/heste/nltk_data...\n",
      "[nltk_data]    |   Package basque_grammars is already up-to-date!\n",
      "[nltk_data]    | Downloading package bcp47 to\n",
      "[nltk_data]    |     /Users/heste/nltk_data...\n",
      "[nltk_data]    |   Package bcp47 is already up-to-date!\n",
      "[nltk_data]    | Downloading package biocreative_ppi to\n",
      "[nltk_data]    |     /Users/heste/nltk_data...\n",
      "[nltk_data]    |   Package biocreative_ppi is already up-to-date!\n",
      "[nltk_data]    | Downloading package bllip_wsj_no_aux to\n",
      "[nltk_data]    |     /Users/heste/nltk_data...\n",
      "[nltk_data]    |   Package bllip_wsj_no_aux is already up-to-date!\n",
      "[nltk_data]    | Downloading package book_grammars to\n",
      "[nltk_data]    |     /Users/heste/nltk_data...\n",
      "[nltk_data]    |   Package book_grammars is already up-to-date!\n",
      "[nltk_data]    | Downloading package brown to\n",
      "[nltk_data]    |     /Users/heste/nltk_data...\n",
      "[nltk_data]    |   Package brown is already up-to-date!\n",
      "[nltk_data]    | Downloading package brown_tei to\n",
      "[nltk_data]    |     /Users/heste/nltk_data...\n",
      "[nltk_data]    |   Package brown_tei is already up-to-date!\n",
      "[nltk_data]    | Downloading package cess_cat to\n",
      "[nltk_data]    |     /Users/heste/nltk_data...\n",
      "[nltk_data]    |   Package cess_cat is already up-to-date!\n",
      "[nltk_data]    | Downloading package cess_esp to\n",
      "[nltk_data]    |     /Users/heste/nltk_data...\n",
      "[nltk_data]    |   Package cess_esp is already up-to-date!\n",
      "[nltk_data]    | Downloading package chat80 to\n",
      "[nltk_data]    |     /Users/heste/nltk_data...\n",
      "[nltk_data]    |   Package chat80 is already up-to-date!\n",
      "[nltk_data]    | Downloading package city_database to\n",
      "[nltk_data]    |     /Users/heste/nltk_data...\n",
      "[nltk_data]    |   Package city_database is already up-to-date!\n",
      "[nltk_data]    | Downloading package cmudict to\n",
      "[nltk_data]    |     /Users/heste/nltk_data...\n",
      "[nltk_data]    |   Package cmudict is already up-to-date!\n",
      "[nltk_data]    | Downloading package comparative_sentences to\n",
      "[nltk_data]    |     /Users/heste/nltk_data...\n",
      "[nltk_data]    |   Package comparative_sentences is already up-to-\n",
      "[nltk_data]    |       date!\n",
      "[nltk_data]    | Downloading package comtrans to\n",
      "[nltk_data]    |     /Users/heste/nltk_data...\n",
      "[nltk_data]    |   Package comtrans is already up-to-date!\n",
      "[nltk_data]    | Downloading package conll2000 to\n",
      "[nltk_data]    |     /Users/heste/nltk_data...\n",
      "[nltk_data]    |   Package conll2000 is already up-to-date!\n",
      "[nltk_data]    | Downloading package conll2002 to\n",
      "[nltk_data]    |     /Users/heste/nltk_data...\n",
      "[nltk_data]    |   Package conll2002 is already up-to-date!\n",
      "[nltk_data]    | Downloading package conll2007 to\n",
      "[nltk_data]    |     /Users/heste/nltk_data...\n",
      "[nltk_data]    |   Package conll2007 is already up-to-date!\n",
      "[nltk_data]    | Downloading package crubadan to\n",
      "[nltk_data]    |     /Users/heste/nltk_data...\n",
      "[nltk_data]    |   Package crubadan is already up-to-date!\n",
      "[nltk_data]    | Downloading package dependency_treebank to\n",
      "[nltk_data]    |     /Users/heste/nltk_data...\n",
      "[nltk_data]    |   Package dependency_treebank is already up-to-date!\n",
      "[nltk_data]    | Downloading package dolch to\n",
      "[nltk_data]    |     /Users/heste/nltk_data...\n",
      "[nltk_data]    |   Package dolch is already up-to-date!\n",
      "[nltk_data]    | Downloading package europarl_raw to\n",
      "[nltk_data]    |     /Users/heste/nltk_data...\n",
      "[nltk_data]    |   Package europarl_raw is already up-to-date!\n",
      "[nltk_data]    | Downloading package extended_omw to\n",
      "[nltk_data]    |     /Users/heste/nltk_data...\n",
      "[nltk_data]    |   Package extended_omw is already up-to-date!\n",
      "[nltk_data]    | Downloading package floresta to\n",
      "[nltk_data]    |     /Users/heste/nltk_data...\n",
      "[nltk_data]    |   Package floresta is already up-to-date!\n",
      "[nltk_data]    | Downloading package framenet_v15 to\n",
      "[nltk_data]    |     /Users/heste/nltk_data...\n",
      "[nltk_data]    |   Package framenet_v15 is already up-to-date!\n",
      "[nltk_data]    | Downloading package framenet_v17 to\n",
      "[nltk_data]    |     /Users/heste/nltk_data...\n",
      "[nltk_data]    |   Package framenet_v17 is already up-to-date!\n",
      "[nltk_data]    | Downloading package gazetteers to\n",
      "[nltk_data]    |     /Users/heste/nltk_data...\n",
      "[nltk_data]    |   Package gazetteers is already up-to-date!\n",
      "[nltk_data]    | Downloading package genesis to\n",
      "[nltk_data]    |     /Users/heste/nltk_data...\n",
      "[nltk_data]    |   Package genesis is already up-to-date!\n",
      "[nltk_data]    | Downloading package gutenberg to\n",
      "[nltk_data]    |     /Users/heste/nltk_data...\n",
      "[nltk_data]    |   Package gutenberg is already up-to-date!\n",
      "[nltk_data]    | Downloading package ieer to /Users/heste/nltk_data...\n",
      "[nltk_data]    |   Package ieer is already up-to-date!\n",
      "[nltk_data]    | Downloading package inaugural to\n",
      "[nltk_data]    |     /Users/heste/nltk_data...\n",
      "[nltk_data]    |   Package inaugural is already up-to-date!\n",
      "[nltk_data]    | Downloading package indian to\n",
      "[nltk_data]    |     /Users/heste/nltk_data...\n",
      "[nltk_data]    |   Package indian is already up-to-date!\n",
      "[nltk_data]    | Downloading package jeita to\n",
      "[nltk_data]    |     /Users/heste/nltk_data...\n",
      "[nltk_data]    |   Package jeita is already up-to-date!\n",
      "[nltk_data]    | Downloading package kimmo to\n",
      "[nltk_data]    |     /Users/heste/nltk_data...\n",
      "[nltk_data]    |   Package kimmo is already up-to-date!\n",
      "[nltk_data]    | Downloading package knbc to /Users/heste/nltk_data...\n",
      "[nltk_data]    |   Package knbc is already up-to-date!\n",
      "[nltk_data]    | Downloading package large_grammars to\n",
      "[nltk_data]    |     /Users/heste/nltk_data...\n",
      "[nltk_data]    |   Package large_grammars is already up-to-date!\n",
      "[nltk_data]    | Downloading package lin_thesaurus to\n",
      "[nltk_data]    |     /Users/heste/nltk_data...\n",
      "[nltk_data]    |   Package lin_thesaurus is already up-to-date!\n",
      "[nltk_data]    | Downloading package mac_morpho to\n",
      "[nltk_data]    |     /Users/heste/nltk_data...\n",
      "[nltk_data]    |   Package mac_morpho is already up-to-date!\n",
      "[nltk_data]    | Downloading package machado to\n",
      "[nltk_data]    |     /Users/heste/nltk_data...\n",
      "[nltk_data]    |   Package machado is already up-to-date!\n",
      "[nltk_data]    | Downloading package masc_tagged to\n",
      "[nltk_data]    |     /Users/heste/nltk_data...\n",
      "[nltk_data]    |   Package masc_tagged is already up-to-date!\n",
      "[nltk_data]    | Downloading package maxent_ne_chunker to\n",
      "[nltk_data]    |     /Users/heste/nltk_data...\n",
      "[nltk_data]    |   Package maxent_ne_chunker is already up-to-date!\n",
      "[nltk_data]    | Downloading package maxent_ne_chunker_tab to\n",
      "[nltk_data]    |     /Users/heste/nltk_data...\n",
      "[nltk_data]    |   Package maxent_ne_chunker_tab is already up-to-\n",
      "[nltk_data]    |       date!\n",
      "[nltk_data]    | Downloading package maxent_treebank_pos_tagger to\n",
      "[nltk_data]    |     /Users/heste/nltk_data...\n",
      "[nltk_data]    |   Package maxent_treebank_pos_tagger is already up-\n",
      "[nltk_data]    |       to-date!\n",
      "[nltk_data]    | Downloading package maxent_treebank_pos_tagger_tab to\n",
      "[nltk_data]    |     /Users/heste/nltk_data...\n",
      "[nltk_data]    |   Package maxent_treebank_pos_tagger_tab is already\n",
      "[nltk_data]    |       up-to-date!\n",
      "[nltk_data]    | Downloading package moses_sample to\n",
      "[nltk_data]    |     /Users/heste/nltk_data...\n",
      "[nltk_data]    |   Package moses_sample is already up-to-date!\n",
      "[nltk_data]    | Downloading package movie_reviews to\n",
      "[nltk_data]    |     /Users/heste/nltk_data...\n",
      "[nltk_data]    |   Package movie_reviews is already up-to-date!\n",
      "[nltk_data]    | Downloading package mte_teip5 to\n",
      "[nltk_data]    |     /Users/heste/nltk_data...\n",
      "[nltk_data]    |   Package mte_teip5 is already up-to-date!\n",
      "[nltk_data]    | Downloading package mwa_ppdb to\n",
      "[nltk_data]    |     /Users/heste/nltk_data...\n",
      "[nltk_data]    |   Package mwa_ppdb is already up-to-date!\n",
      "[nltk_data]    | Downloading package names to\n",
      "[nltk_data]    |     /Users/heste/nltk_data...\n",
      "[nltk_data]    |   Package names is already up-to-date!\n",
      "[nltk_data]    | Downloading package nombank.1.0 to\n",
      "[nltk_data]    |     /Users/heste/nltk_data...\n",
      "[nltk_data]    |   Package nombank.1.0 is already up-to-date!\n",
      "[nltk_data]    | Downloading package nonbreaking_prefixes to\n",
      "[nltk_data]    |     /Users/heste/nltk_data...\n",
      "[nltk_data]    |   Package nonbreaking_prefixes is already up-to-date!\n",
      "[nltk_data]    | Downloading package nps_chat to\n",
      "[nltk_data]    |     /Users/heste/nltk_data...\n",
      "[nltk_data]    |   Package nps_chat is already up-to-date!\n",
      "[nltk_data]    | Downloading package omw to /Users/heste/nltk_data...\n",
      "[nltk_data]    |   Package omw is already up-to-date!\n",
      "[nltk_data]    | Downloading package omw-1.4 to\n",
      "[nltk_data]    |     /Users/heste/nltk_data...\n",
      "[nltk_data]    |   Package omw-1.4 is already up-to-date!\n",
      "[nltk_data]    | Downloading package opinion_lexicon to\n",
      "[nltk_data]    |     /Users/heste/nltk_data...\n",
      "[nltk_data]    |   Package opinion_lexicon is already up-to-date!\n",
      "[nltk_data]    | Downloading package panlex_swadesh to\n",
      "[nltk_data]    |     /Users/heste/nltk_data...\n",
      "[nltk_data]    |   Package panlex_swadesh is already up-to-date!\n",
      "[nltk_data]    | Downloading package paradigms to\n",
      "[nltk_data]    |     /Users/heste/nltk_data...\n",
      "[nltk_data]    |   Package paradigms is already up-to-date!\n",
      "[nltk_data]    | Downloading package pe08 to /Users/heste/nltk_data...\n",
      "[nltk_data]    |   Package pe08 is already up-to-date!\n",
      "[nltk_data]    | Downloading package perluniprops to\n",
      "[nltk_data]    |     /Users/heste/nltk_data...\n",
      "[nltk_data]    |   Package perluniprops is already up-to-date!\n",
      "[nltk_data]    | Downloading package pil to /Users/heste/nltk_data...\n",
      "[nltk_data]    |   Package pil is already up-to-date!\n",
      "[nltk_data]    | Downloading package pl196x to\n",
      "[nltk_data]    |     /Users/heste/nltk_data...\n",
      "[nltk_data]    |   Package pl196x is already up-to-date!\n",
      "[nltk_data]    | Downloading package porter_test to\n",
      "[nltk_data]    |     /Users/heste/nltk_data...\n",
      "[nltk_data]    |   Package porter_test is already up-to-date!\n",
      "[nltk_data]    | Downloading package ppattach to\n",
      "[nltk_data]    |     /Users/heste/nltk_data...\n",
      "[nltk_data]    |   Package ppattach is already up-to-date!\n",
      "[nltk_data]    | Downloading package problem_reports to\n",
      "[nltk_data]    |     /Users/heste/nltk_data...\n",
      "[nltk_data]    |   Package problem_reports is already up-to-date!\n",
      "[nltk_data]    | Downloading package product_reviews_1 to\n",
      "[nltk_data]    |     /Users/heste/nltk_data...\n",
      "[nltk_data]    |   Package product_reviews_1 is already up-to-date!\n",
      "[nltk_data]    | Downloading package product_reviews_2 to\n",
      "[nltk_data]    |     /Users/heste/nltk_data...\n",
      "[nltk_data]    |   Package product_reviews_2 is already up-to-date!\n",
      "[nltk_data]    | Downloading package propbank to\n",
      "[nltk_data]    |     /Users/heste/nltk_data...\n",
      "[nltk_data]    |   Package propbank is already up-to-date!\n",
      "[nltk_data]    | Downloading package pros_cons to\n",
      "[nltk_data]    |     /Users/heste/nltk_data...\n",
      "[nltk_data]    |   Package pros_cons is already up-to-date!\n",
      "[nltk_data]    | Downloading package ptb to /Users/heste/nltk_data...\n",
      "[nltk_data]    |   Package ptb is already up-to-date!\n",
      "[nltk_data]    | Downloading package punkt to\n",
      "[nltk_data]    |     /Users/heste/nltk_data...\n",
      "[nltk_data]    |   Package punkt is already up-to-date!\n",
      "[nltk_data]    | Downloading package punkt_tab to\n",
      "[nltk_data]    |     /Users/heste/nltk_data...\n",
      "[nltk_data]    |   Package punkt_tab is already up-to-date!\n",
      "[nltk_data]    | Downloading package qc to /Users/heste/nltk_data...\n",
      "[nltk_data]    |   Package qc is already up-to-date!\n",
      "[nltk_data]    | Downloading package reuters to\n",
      "[nltk_data]    |     /Users/heste/nltk_data...\n",
      "[nltk_data]    |   Package reuters is already up-to-date!\n",
      "[nltk_data]    | Downloading package rslp to /Users/heste/nltk_data...\n",
      "[nltk_data]    |   Package rslp is already up-to-date!\n",
      "[nltk_data]    | Downloading package rte to /Users/heste/nltk_data...\n",
      "[nltk_data]    |   Package rte is already up-to-date!\n",
      "[nltk_data]    | Downloading package sample_grammars to\n",
      "[nltk_data]    |     /Users/heste/nltk_data...\n",
      "[nltk_data]    |   Package sample_grammars is already up-to-date!\n",
      "[nltk_data]    | Downloading package semcor to\n",
      "[nltk_data]    |     /Users/heste/nltk_data...\n",
      "[nltk_data]    |   Package semcor is already up-to-date!\n",
      "[nltk_data]    | Downloading package senseval to\n",
      "[nltk_data]    |     /Users/heste/nltk_data...\n",
      "[nltk_data]    |   Package senseval is already up-to-date!\n",
      "[nltk_data]    | Downloading package sentence_polarity to\n",
      "[nltk_data]    |     /Users/heste/nltk_data...\n",
      "[nltk_data]    |   Package sentence_polarity is already up-to-date!\n",
      "[nltk_data]    | Downloading package sentiwordnet to\n",
      "[nltk_data]    |     /Users/heste/nltk_data...\n",
      "[nltk_data]    |   Package sentiwordnet is already up-to-date!\n",
      "[nltk_data]    | Downloading package shakespeare to\n",
      "[nltk_data]    |     /Users/heste/nltk_data...\n",
      "[nltk_data]    |   Package shakespeare is already up-to-date!\n",
      "[nltk_data]    | Downloading package sinica_treebank to\n",
      "[nltk_data]    |     /Users/heste/nltk_data...\n",
      "[nltk_data]    |   Package sinica_treebank is already up-to-date!\n",
      "[nltk_data]    | Downloading package smultron to\n",
      "[nltk_data]    |     /Users/heste/nltk_data...\n",
      "[nltk_data]    |   Package smultron is already up-to-date!\n",
      "[nltk_data]    | Downloading package snowball_data to\n",
      "[nltk_data]    |     /Users/heste/nltk_data...\n",
      "[nltk_data]    |   Package snowball_data is already up-to-date!\n",
      "[nltk_data]    | Downloading package spanish_grammars to\n",
      "[nltk_data]    |     /Users/heste/nltk_data...\n",
      "[nltk_data]    |   Package spanish_grammars is already up-to-date!\n",
      "[nltk_data]    | Downloading package state_union to\n",
      "[nltk_data]    |     /Users/heste/nltk_data...\n",
      "[nltk_data]    |   Package state_union is already up-to-date!\n",
      "[nltk_data]    | Downloading package stopwords to\n",
      "[nltk_data]    |     /Users/heste/nltk_data...\n",
      "[nltk_data]    |   Package stopwords is already up-to-date!\n",
      "[nltk_data]    | Downloading package subjectivity to\n",
      "[nltk_data]    |     /Users/heste/nltk_data...\n",
      "[nltk_data]    |   Package subjectivity is already up-to-date!\n",
      "[nltk_data]    | Downloading package swadesh to\n",
      "[nltk_data]    |     /Users/heste/nltk_data...\n",
      "[nltk_data]    |   Package swadesh is already up-to-date!\n",
      "[nltk_data]    | Downloading package switchboard to\n",
      "[nltk_data]    |     /Users/heste/nltk_data...\n",
      "[nltk_data]    |   Package switchboard is already up-to-date!\n",
      "[nltk_data]    | Downloading package tagsets to\n",
      "[nltk_data]    |     /Users/heste/nltk_data...\n",
      "[nltk_data]    |   Package tagsets is already up-to-date!\n",
      "[nltk_data]    | Downloading package tagsets_json to\n",
      "[nltk_data]    |     /Users/heste/nltk_data...\n",
      "[nltk_data]    |   Package tagsets_json is already up-to-date!\n",
      "[nltk_data]    | Downloading package timit to\n",
      "[nltk_data]    |     /Users/heste/nltk_data...\n",
      "[nltk_data]    |   Package timit is already up-to-date!\n",
      "[nltk_data]    | Downloading package toolbox to\n",
      "[nltk_data]    |     /Users/heste/nltk_data...\n",
      "[nltk_data]    |   Package toolbox is already up-to-date!\n",
      "[nltk_data]    | Downloading package treebank to\n",
      "[nltk_data]    |     /Users/heste/nltk_data...\n",
      "[nltk_data]    |   Package treebank is already up-to-date!\n",
      "[nltk_data]    | Downloading package twitter_samples to\n",
      "[nltk_data]    |     /Users/heste/nltk_data...\n",
      "[nltk_data]    |   Package twitter_samples is already up-to-date!\n",
      "[nltk_data]    | Downloading package udhr to /Users/heste/nltk_data...\n",
      "[nltk_data]    |   Package udhr is already up-to-date!\n",
      "[nltk_data]    | Downloading package udhr2 to\n",
      "[nltk_data]    |     /Users/heste/nltk_data...\n",
      "[nltk_data]    |   Package udhr2 is already up-to-date!\n",
      "[nltk_data]    | Downloading package unicode_samples to\n",
      "[nltk_data]    |     /Users/heste/nltk_data...\n",
      "[nltk_data]    |   Package unicode_samples is already up-to-date!\n",
      "[nltk_data]    | Downloading package universal_tagset to\n",
      "[nltk_data]    |     /Users/heste/nltk_data...\n",
      "[nltk_data]    |   Package universal_tagset is already up-to-date!\n",
      "[nltk_data]    | Downloading package universal_treebanks_v20 to\n",
      "[nltk_data]    |     /Users/heste/nltk_data...\n",
      "[nltk_data]    |   Package universal_treebanks_v20 is already up-to-\n",
      "[nltk_data]    |       date!\n",
      "[nltk_data]    | Downloading package vader_lexicon to\n",
      "[nltk_data]    |     /Users/heste/nltk_data...\n",
      "[nltk_data]    |   Package vader_lexicon is already up-to-date!\n",
      "[nltk_data]    | Downloading package verbnet to\n",
      "[nltk_data]    |     /Users/heste/nltk_data...\n",
      "[nltk_data]    |   Package verbnet is already up-to-date!\n",
      "[nltk_data]    | Downloading package verbnet3 to\n",
      "[nltk_data]    |     /Users/heste/nltk_data...\n",
      "[nltk_data]    |   Package verbnet3 is already up-to-date!\n",
      "[nltk_data]    | Downloading package webtext to\n",
      "[nltk_data]    |     /Users/heste/nltk_data...\n",
      "[nltk_data]    |   Package webtext is already up-to-date!\n",
      "[nltk_data]    | Downloading package wmt15_eval to\n",
      "[nltk_data]    |     /Users/heste/nltk_data...\n",
      "[nltk_data]    |   Package wmt15_eval is already up-to-date!\n",
      "[nltk_data]    | Downloading package word2vec_sample to\n",
      "[nltk_data]    |     /Users/heste/nltk_data...\n",
      "[nltk_data]    |   Package word2vec_sample is already up-to-date!\n",
      "[nltk_data]    | Downloading package wordnet to\n",
      "[nltk_data]    |     /Users/heste/nltk_data...\n",
      "[nltk_data]    |   Package wordnet is already up-to-date!\n",
      "[nltk_data]    | Downloading package wordnet2021 to\n",
      "[nltk_data]    |     /Users/heste/nltk_data...\n",
      "[nltk_data]    |   Package wordnet2021 is already up-to-date!\n",
      "[nltk_data]    | Downloading package wordnet2022 to\n",
      "[nltk_data]    |     /Users/heste/nltk_data...\n",
      "[nltk_data]    |   Package wordnet2022 is already up-to-date!\n",
      "[nltk_data]    | Downloading package wordnet31 to\n",
      "[nltk_data]    |     /Users/heste/nltk_data...\n",
      "[nltk_data]    |   Package wordnet31 is already up-to-date!\n",
      "[nltk_data]    | Downloading package wordnet_ic to\n",
      "[nltk_data]    |     /Users/heste/nltk_data...\n",
      "[nltk_data]    |   Package wordnet_ic is already up-to-date!\n",
      "[nltk_data]    | Downloading package words to\n",
      "[nltk_data]    |     /Users/heste/nltk_data...\n",
      "[nltk_data]    |   Package words is already up-to-date!\n",
      "[nltk_data]    | Downloading package ycoe to /Users/heste/nltk_data...\n",
      "[nltk_data]    |   Package ycoe is already up-to-date!\n",
      "[nltk_data]    | \n",
      "[nltk_data]  Done downloading collection all\n"
     ]
    }
   ],
   "source": [
    "# sn-echoes にある、述語目的語の割合 円グラフを scbi-v2 に適用してみる\n",
    "from collections import Counter\n",
    "\n",
    "import nltk\n",
    "import plotly.express as px\n",
    "from nltk import pos_tag, word_tokenize\n",
    "from nltk.corpus import (\n",
    "    stopwords,  # Import the stop word list\n",
    "    wordnet,\n",
    ")\n",
    "\n",
    "# 必要なデータをダウンロード\n",
    "nltk.download('all')\n",
    "\n",
    "nltk.data.path.append('/Users/heste/nltk_data')\n",
    "\n",
    "stops = set(stopwords.words(\"english\"))\n",
    "stemmer = nltk.WordNetLemmatizer()\n",
    "\n",
    "# 品詞タグをWordNetの形式に変換する関数\n",
    "def get_wordnet_pos(tag):\n",
    "    if tag.startswith('J'):\n",
    "        return wordnet.ADJ\n",
    "    elif tag.startswith('V'):\n",
    "        return wordnet.VERB\n",
    "    elif tag.startswith('N'):\n",
    "        return wordnet.NOUN\n",
    "    elif tag.startswith('R'):\n",
    "        return wordnet.ADV\n",
    "    else:\n",
    "        return None\n",
    "\n",
    "\n",
    "# 動詞-目的語ペアを抽出する関数\n",
    "def extract_vn_nltk(text):\n",
    "    \"\"\"\n",
    "    1. 文章をトークン化\n",
    "    2. 品詞タグ付け\n",
    "    3. stopwordを除外 3文字以上 動詞を抽出\n",
    "    4. 動詞を見出し語化\n",
    "    5. 動詞の後に名詞がある場合、動詞-名詞ペアを抽出\n",
    "    \"\"\"\n",
    "    tokens = word_tokenize(text)\n",
    "    tagged = pos_tag(tokens)\n",
    "\n",
    "    vn_pairs = []\n",
    "    for i, word_pos in enumerate(tagged):\n",
    "        word, pos = word_pos\n",
    "\n",
    "        #  動詞を探す stopwordを除外 3文字以上\n",
    "        if pos.startswith('VB') and (word.lower() not in stops) and (len(word) >= 3):\n",
    "            # 目的語となる名詞 (名詞が動詞の後にくる場合を探す)\n",
    "            if i + 1 < len(tagged) and tagged[i + 1][1] in ['NN', 'NNS']:\n",
    "                noun = tagged[i + 1][0].lower()\n",
    "                # 動詞のみ レンマタイズ\n",
    "                word = stemmer.lemmatize(word.lower(), pos=get_wordnet_pos(pos))\n",
    "                vn_pairs.append((word, noun))\n",
    "\n",
    "    return vn_pairs\n",
    "\n",
    "\n",
    "def plot_vn_ratio(df: pd.DataFrame, only_bi: bool = False):\n",
    "    # サンプルデータフレームのテキスト列から主語-動詞ペアを抽出\n",
    "    filtered_df = df.loc[df['text'].notnull()].copy()\n",
    "\n",
    "    if only_bi:\n",
    "        # only background information\n",
    "        filtered_df = filtered_df.loc[filtered_df[binary_category_name] == 1]\n",
    "\n",
    "    # pandasのprogress_applyを使うために必要\n",
    "    tqdm.pandas()\n",
    "\n",
    "    filtered_df['vn_pairs'] = filtered_df['text'].progress_apply(extract_vn_nltk)\n",
    "\n",
    "    print(filtered_df['vn_pairs'].str.len().describe())\n",
    "\n",
    "    # 動詞ごとの集計\n",
    "    vn_list = [\n",
    "        (v, n)\n",
    "        for pairs in filtered_df['vn_pairs']\n",
    "        for v, n in pairs\n",
    "        if len(pairs) > 0\n",
    "    ]\n",
    "\n",
    "    # 動詞の上位20個を取得\n",
    "    v_list = [v for v, _ in vn_list]\n",
    "    top_20_verbs = [v for v, _ in Counter(v_list).most_common(20)]\n",
    "\n",
    "    print(f\"{top_20_verbs=}\")\n",
    "\n",
    "    # 動詞ごとの目的語の上位を制限して取得\n",
    "    filtered_pairs = []\n",
    "    for verb in top_20_verbs:\n",
    "        nouns = []\n",
    "        for v, n in vn_list:\n",
    "            if v == verb:\n",
    "                nouns.append(n)\n",
    "\n",
    "        noun_counts = Counter(nouns)\n",
    "        print(f\"{noun_counts=}\")\n",
    "        # 動詞の順位に応じた目的語の表示数を設定\n",
    "        rank = top_20_verbs.index(verb) + 1\n",
    "        if rank <= 3:\n",
    "            top_nouns = noun_counts.most_common(4)  # 上位3位までの動詞には4個の名詞\n",
    "        elif rank <= 5:\n",
    "            top_nouns = noun_counts.most_common(3)  # 上位5位までの動詞には3個の名詞\n",
    "        else:\n",
    "            top_nouns = noun_counts.most_common(1)  # それ以外の動詞には1個の名詞\n",
    "\n",
    "        print(f\"{verb=}, {top_nouns=}\")\n",
    "        # 結果をリストに追加\n",
    "        for noun, count in top_nouns:\n",
    "            filtered_pairs.append((verb, noun, count))\n",
    "\n",
    "    sunburst_df = pd.DataFrame(filtered_pairs, columns=['verb', 'noun', 'count'])\n",
    "\n",
    "    # サンバーストチャートの作成\n",
    "    fig = px.sunburst(\n",
    "        sunburst_df,\n",
    "        path=['verb', 'noun'],   # 動詞をメインセグメント、目的語をサブセグメントとして設定\n",
    "        values='count',          # 頻度データ\n",
    "        color='verb',            # 動詞ごとに色分け\n",
    "        title=\"Verb-Noun 共起関係\",\n",
    "    )\n",
    "    fig.show()\n",
    "\n",
    "# plot_vn_ratio(scbi_df)\n",
    "\n",
    "# take advantageが以上に多い\n",
    "# 偏りがありそうなことがわかった\n"
   ]
  },
  {
   "cell_type": "code",
   "execution_count": 21,
   "metadata": {},
   "outputs": [
    {
     "name": "stderr",
     "output_type": "stream",
     "text": [
      "100%|██████████| 62668/62668 [00:24<00:00, 2603.19it/s]\n"
     ]
    },
    {
     "name": "stdout",
     "output_type": "stream",
     "text": [
      "count    62668.000000\n",
      "mean         0.062520\n",
      "std          0.264526\n",
      "min          0.000000\n",
      "25%          0.000000\n",
      "50%          0.000000\n",
      "75%          0.000000\n",
      "max          5.000000\n",
      "Name: vn_pairs, dtype: float64\n",
      "top_20_verbs=['take', 'get', 'make', 'score', 'give', 'win', 'lose', 'play', 'start', 'say', 'see', 'leave', 'put', 'create', 'attack', 'find', 'set', 'keep', 'repeat', 'change']\n",
      "noun_counts=Counter({'advantage': 187, 'care': 28, 'place': 26, 'part': 14, 'charge': 12, 'something': 8, 'control': 7, 'risks': 6, 'time': 6, 'possession': 5, 'goal': 4, 'speed': 4, 'shape': 2, 'anything': 2, 'penalty': 2, 'hold': 2, 'confidence': 2, 'air': 2, 'height': 2, 'crosses': 1, 'corners': 1, 'shots': 1, 'nothing': 1, 'delaney': 1, 'office': 1, 'penalties': 1, 'exception': 1, 'sides': 1, 'chances': 1, 'numbers': 1, 'eye': 1, 'videos': 1, 'positions': 1, 'options': 1, 'refuge': 1, 'everything': 1, '5-0': 1, 'support': 1, 'knowledge': 1, 'home': 1, 'position': 1, 'momentum': 1, 'notes': 1, 'minutes': 1, 'effect': 1, 'people': 1})\n",
      "verb='take', top_nouns=[('advantage', 187), ('care', 28), ('place', 26), ('part', 14)]\n",
      "noun_counts=Counter({'something': 28, 'plenty': 12, 'goals': 10, 'crosses': 8, 'hold': 7, 'anything': 7, 'possession': 7, 'someone': 5, 'goal': 4, 'lots': 4, 'options': 4, 'support': 3, 'beat': 3, 'people': 3, 'players': 3, 'things': 3, 'men': 3, 'bodies': 3, 'numbers': 3, 'nothing': 2, 'round': 2, 'news': 2, 'time': 2, 'word': 2, 'pace': 2, 'work': 2, 'assists': 2, 'games': 2, 'man': 2, 'quarter': 1, 'somebody': 1, 'towards': 1, 'nobody': 1, 'crap': 1, 'everyone': 1, 'runners': 1, 'tight': 1, 'level': 1, 'none': 1, 'problems': 1, 'divots': 1, 'injuries': 1, 'confidence': 1, 'wingers': 1, 'shade': 1, 'control': 1, 'eyes': 1, 'corners': 1, 'caught': 1, 'venture': 1, 'handball': 1, 'meat': 1, 'pressure': 1, 'barclay': 1, 'ponies': 1, 'verification': 1, 'balls': 1, 'shots': 1, 'history': 1, 'passes': 1, 'fouls': 1, 'faults': 1, 'opportunities': 1, 'success': 1, 'top': 1, 'bits': 1, 'yellow': 1, 'hit': 1, 'access': 1, 'results': 1, 'triplets': 1, 'centers': 1, 'water': 1, 'fruit': 1, 'minutes': 1, 'everything': 1})\n",
      "verb='get', top_nouns=[('something', 28), ('plenty', 12), ('goals', 10), ('crosses', 8)]\n",
      "noun_counts=Counter({'mistakes': 15, 'way': 14, 'things': 8, 'sense': 7, 'life': 7, 'changes': 7, 'gestures': 7, 'contact': 6, 'passes': 4, 'history': 3, 'runs': 3, 'something': 3, 'challenges': 3, 'sure': 3, 'room': 3, 'indications': 3, 'tackles': 2, 'amends': 2, 'fun': 2, 'anything': 1, 'back-to-back': 1, 'strides': 1, 'headlines': 1, 'tracks': 1, 'save': 1, 'clearances': 1, 'chamberlain': 1, 'playing': 1, 'advances': 1, 'well': 1, 'everybody': 1, 'light': 1, 'easier': 1, 'tonight': 1, 'interceptions': 1, 'chances': 1, 'progress': 1, 'countless': 1, 'hay': 1, 'somebody': 1, 'yesterday': 1, 'qualification': 1, 'permanent': 1, 'efforts': 1, 'diagonals': 1, 'marks': 1, 'defense': 1, 'gaps': 1, 'superiorities': 1, 'superiors': 1, 'friends': 1, 'space': 1, 'penalty': 1, 'substitutions': 1, 'plenty': 1, 'today': 1, 'half-points': 1, 'half-centre': 1})\n",
      "verb='make', top_nouns=[('mistakes', 15), ('way', 14), ('things', 8), ('sense', 7)]\n",
      "noun_counts=Counter({'goals': 58, 'today': 13, 'plenty': 4, 'points': 4, 'opportunity': 3, 'ability': 3, 'header': 2, 'loads': 2, 'form': 2, 'ratio': 2, 'tonight': 2, 'penalty': 2, 'statistics': 2, 'chances': 1, 'home': 1, 'holidays': 1, 'record': 1, 'wise': 1, 'team': 1, 'hat-tricks': 1, 'act': 1, 'boots': 1, 'yesterday': 1, 'bags': 1, 'lots': 1, 'chance': 1, 'defeats': 1, 'everything': 1, 'charts': 1, 'power': 1, 'performance': 1, 'rubén': 1, 'goal': 1, 'left': 1, 'figures': 1, 'profile': 1, 'contribution': 1})\n",
      "verb='score', top_nouns=[('goals', 58), ('today', 13), ('plenty', 4)]\n",
      "noun_counts=Counter({'instructions': 13, 'continuity': 7, 'minutes': 6, 'way': 6, 'indications': 6, 'time': 5, 'possession': 5, 'rest': 4, 'credit': 3, 'problems': 3, 'space': 3, 'depth': 3, 'options': 2, 'anything': 2, 'penalties': 2, 'balance': 2, 'advantage': 2, 'tranquility': 2, 'amplitude': 2, 'permission': 2, 'directions': 2, 'everyone': 1, 'fouls': 1, 'adams': 1, 'encouragement': 1, 'anyone': 1, 'sides': 1, 'youngsters': 1, 'offside': 1, 'notice': 1, 'players': 1, 'license': 1, 'ammunition': 1, 'freedom': 1, 'confidence': 1, 'access': 1, 'life': 1, 'fuste': 1, 'possibilities': 1, 'strength': 1, 'goals': 1, 'yellow': 1, 'explanations': 1, 'handball': 1, 'acres': 1, 'obstruction': 1, 'emotion': 1, 'direction': 1, 'moment': 1, 'solutions': 1, 'orders': 1, 'chances': 1, 'stability': 1, 'symptoms': 1, 'speed': 1, 'applause': 1, 'everything': 1, 'validity': 1, 'peace': 1, 'gifts': 1})\n",
      "verb='give', top_nouns=[('instructions', 13), ('continuity', 7), ('minutes', 6)]\n",
      "noun_counts=Counter({'goal': 17, 'meters': 10, 'today': 9, 'side': 5, '0-1': 5, 'tonight': 4, 'possession': 4, 'games': 4, 'campaign': 3, 'penalty': 3, 'thanks': 3, 'team': 2, 'positions': 2, 'ways': 2, 'season': 2, 'challenges': 2, 'space': 2, 'titles': 2, 'anything': 1, '0-4': 1, 'rockets': 1, 'half': 1, 'streak': 1, 'leagues': 1, 'football': 1, 'bonus': 1, 'goals': 1, 'goalkeeper': 1, 'spell': 1, 'stops': 1, 'hero': 1, 'balls': 1, 'tackles': 1, '0-2': 1, 'cards': 1, 'head-on': 1})\n",
      "verb='win', top_nouns=[('goal', 17)]\n",
      "noun_counts=Counter({'possession': 13, 'ball': 8, 'sight': 8, 'control': 6, 'points': 4, 'today': 3, 'time': 3, 'anything': 2, 'positions': 2, 'tonight': 2, 'ground': 2, 'consciousness': 2, '0-2': 2, '1-2': 2, '1-0': 2, 'balls': 2, 'money': 1, 'half': 1, '5-1': 1, 'jacob': 1, 'matches': 1, 'causes': 1, 'focus': 1, '3-0': 1, '6-1': 1, 'count': 1, 'counter-attack': 1, 'none': 1, 'collaboration': 1, 'precision': 1, 'balance': 1, 'passes': 1, '0-3': 1, '0-1': 1, 'theirs': 1, 'yesterday': 1, '7-0': 1, 'angle': 1, 'command': 1, 'references': 1, 'face': 1})\n",
      "verb='lose', top_nouns=[('possession', 13)]\n",
      "noun_counts=Counter({'today': 9, 'backwards': 7, 'tomorrow': 6, 'towards': 5, 'right-back': 3, 'midfielder': 3, 'tonight': 3, '0-0': 3, 'time': 2, 'anything': 2, 'twice': 2, 'football': 2, 'behind': 2, 'hand-to-hand': 2, 'wing-back': 1, 'centre-back': 1, 'joshua': 1, 'infield': 1, 'squad': 1, 'surface': 1, 'right': 1, 'advantage': 1, 'half': 1, 'fouls': 1, 'closer': 1, 'plenty': 1, 'opponents': 1, 'well': 1, 'field': 1, 'cross': 1, 'high-level': 1, 'action': 1, 'practice': 1, 'counter': 1, '5-0': 1, 'derbies': 1, 'centre': 1, 'full-back': 1, 'uh': 1, 'bayern': 1, 'sort': 1, 'valencia': 1, 'luna': 1, 'face': 1, 'forces': 1, 'one-on-one': 1, 'minutes': 1, 'half-point': 1, 'javi': 1, 'busquets': 1})\n",
      "verb='play', top_nouns=[('today', 9)]\n",
      "noun_counts=Counter({'line-up': 18, 'eleven': 10, 'lineup': 9, 'xi': 6, 'tonight': 5, 'position': 4, 'today': 3, 'point': 3, 'team': 3, 'place': 3, 'players': 3, 'goalkeeper': 2, 'formation': 2, 'pre-season': 1, 'games': 1, 'winning': 1, 'spot': 1, 'sending': 1, 'line-out': 1, 'power': 1, 'something': 1, 'fouls': 1, 'everything': 1, 'working': 1, 'midfielders': 1, 'backs': 1, 'playing': 1, 'zone': 1})\n",
      "verb='start', top_nouns=[('line-up', 18)]\n",
      "noun_counts=Counter({'goodbye': 24, 'yesterday': 12, 'anything': 8, 'something': 7, 'play': 4, 'hello': 3, 'thank': 2, 'fabregas': 2, 'quality': 1, 'penalty': 1, 'moments': 1, 'discipline': 1, 'afterwards': 1, 'foul': 1, 'off-rackman': 1, 'everything': 1, 'decisions': 1, 'factor': 1, 'i': 1, 'pass': 1, 'pragmatism': 1, 'hands': 1, 'defeat': 1, 'possession': 1, 'nothing': 1, 'hits': 1, 'ovation': 1, 'acobasis': 1})\n",
      "verb='say', top_nouns=[('goodbye', 24)]\n",
      "noun_counts=Counter({'anything': 16, 'goal': 5, 'yellow': 4, 'today': 3, 'players': 2, 'everything': 2, 'frailties': 1, 'retribution': 1, 'lots': 1, 'something': 1, 'football': 1, 'sam': 1, 'mikhail': 1, 'enough': 1, 'snippets': 1, 'someone': 1, 'champions': 1, 'opponents': 1, 'evidence': 1, 'penalties': 1, 'guys': 1, 'videos': 1, 'busquets': 1, 'ex-players': 1, 'tonight': 1, 'teams': 1, 'compromises': 1, 'pace': 1, 'possession': 1, 'valencia': 1, 'performances': 1, 'details': 1, 'head': 1, 'courage': 1, 'things': 1, 'anyone': 1, 'alternation': 1, 'approximations': 1, 'situations': 1, 'phases': 1, 'mermado': 1, 'actions': 1, 'people': 1, 'penalty': 1, 'focus': 1, 'number': 1, 'hunger': 1, 'goals': 1})\n",
      "verb='see', top_nouns=[('anything', 16)]\n",
      "noun_counts=Counter({'defender': 7, 'hand': 6, 'foot': 6, 'side': 5, 'back': 5, 'spaces': 3, 'leg': 3, 'full-back': 2, 'channel': 2, 'wing': 2, 'post': 2, 'flank': 2, 'ankle': 2, 'doubts': 2, 'hold': 1, 'peg': 1, 'presence': 1, 'winger': 1, 'football': 1, 'position': 1, 'flanks': 1, 'plenty': 1, 'players': 1, 'firsts': 1, 'details': 1, 'goals': 1, 'standing': 1, 'hanging': 1, 'men': 1, 'minutes': 1, 'hand-to-hand': 1, 'zone': 1, 'gaps': 1})\n",
      "verb='leave', top_nouns=[('defender', 7)]\n",
      "noun_counts=Counter({'pressure': 29, 'players': 4, 'everything': 3, 'peace': 3, 'ground': 3, 'crosses': 2, 'balls': 2, 'today': 1, 'chelsea': 1, 'trouble': 1, 'tackles': 1, 'way': 1, 'somebody': 1, 'anyone': 1, 'stones': 1, 'football': 1, 'thread': 1, 'pepper': 1, 'someone': 1, 'emphasis': 1, '1-2': 1, 'energy': 1, 'electricity': 1, 'calm': 1})\n",
      "verb='put', top_nouns=[('pressure', 29)]\n",
      "noun_counts=Counter({'danger': 11, 'problems': 6, 'space': 5, 'chances': 5, 'opportunities': 4, 'superiority': 4, 'spaces': 2, 'anything': 2, 'goals': 2, 'openings': 1, 'chance': 1, 'consistency': 1, 'lots': 1, 'plenty': 1, 'play': 1, 'dangers': 1, 'doubts': 1, 'situations': 1, 'mismatches': 1, 'imbalance': 1, 'imbalances': 1})\n",
      "verb='create', top_nouns=[('danger', 11)]\n",
      "noun_counts=Counter({'players': 7, 'options': 5, 'player': 4, 'football': 2, 'force': 2, 'positions': 2, 'zone': 2, 'front': 2, 'action': 2, 'midfielder': 1, 'weapons': 1, 'balls': 1, 'changes': 1, 'ammunition': 1, 'statistics': 1, 'sense': 1, 'flexibility': 1, 'width': 1, 'talent': 1, 'mistakes': 1, 'tonight': 1, 'formation': 1, 'play': 1, 'place': 1, 'men': 1, 'areas': 1, 'attempt': 1, 'power': 1, 'attempts': 1, 'side': 1, 'intervention': 1, 'actions': 1, 'spaces': 1})\n",
      "verb='attack', top_nouns=[('players', 7)]\n",
      "noun_counts=Counter({'space': 18, 'goal': 3, 'spaces': 3, 'lots': 2, 'someone': 2, 'target': 1, 'diego': 1, 'passes': 1, 'plenty': 1, 'positions': 1, 'automatisms': 1, 'traces': 1, 'solutions': 1, 'answers': 1, 'superiorities': 1, 'success': 1, 'attention': 1, 'difficulty': 1, 'continuity': 1, 'ground': 1, 'vision': 1, 'misalignments': 1, 'problems': 1, 'situations': 1, 'players': 1, 'cracks': 1})\n",
      "verb='find', top_nouns=[('space', 18)]\n",
      "noun_counts=Counter({'pieces': 27, 'things': 4, 'plays': 4, 'piece': 3, 'play': 2, 'players': 2, 'people': 1, 'ups': 1, 'move': 1, 'fire': 1, 'today': 1})\n",
      "verb='set', top_nouns=[('pieces', 27)]\n",
      "noun_counts=Counter({'possession': 10, 'hold': 5, 'things': 3, 'teams': 3, 'playing': 3, 'faith': 2, 'everything': 2, 'people': 1, 'pace': 1, 'believing': 1, 'winning': 1, 'tabs': 1, 'call': 1, 'calm': 1, 'progressing': 1, 'showing': 1, 'dominating': 1, 'touching': 1, 'combining': 1})\n",
      "verb='keep', top_nouns=[('possession', 10)]\n",
      "noun_counts=Counter({'action': 27, 'play': 2, 'anything': 1, 'complaining': 1, 'plays': 1, 'image': 1, 'champions': 1, 'throw': 1})\n",
      "verb='repeat', top_nouns=[('action', 27)]\n",
      "noun_counts=Counter({'direction': 7, 'everything': 4, 'sides': 4, 'leg': 4, 'rhythm': 3, 'positions': 3, 'things': 2, 'something': 2, 'feet': 1, 'attack': 1, 'personnel': 1, 'anything': 1, 'tactics': 1, 'rooms': 1})\n",
      "verb='change', top_nouns=[('direction', 7)]\n"
     ]
    },
    {
     "data": {
      "application/vnd.plotly.v1+json": {
       "config": {
        "plotlyServerURL": "https://plot.ly"
       },
       "data": [
        {
         "branchvalues": "total",
         "customdata": [
          [
           "get"
          ],
          [
           "make"
          ],
          [
           "make"
          ],
          [
           "find"
          ],
          [
           "give"
          ],
          [
           "get"
          ],
          [
           "create"
          ],
          [
           "leave"
          ],
          [
           "take"
          ],
          [
           "give"
          ],
          [
           "make"
          ],
          [
           "play"
          ],
          [
           "lose"
          ],
          [
           "take"
          ],
          [
           "score"
          ],
          [
           "win"
          ],
          [
           "change"
          ],
          [
           "get"
          ],
          [
           "attack"
          ],
          [
           "put"
          ],
          [
           "score"
          ],
          [
           "score"
          ],
          [
           "say"
          ],
          [
           "give"
          ],
          [
           "start"
          ],
          [
           "keep"
          ],
          [
           "make"
          ],
          [
           "get"
          ],
          [
           "take"
          ],
          [
           "take"
          ],
          [
           "see"
          ],
          [
           "repeat"
          ],
          [
           "set"
          ],
          [
           "attack"
          ],
          [
           "change"
          ],
          [
           "create"
          ],
          [
           "find"
          ],
          [
           "get"
          ],
          [
           "give"
          ],
          [
           "keep"
          ],
          [
           "leave"
          ],
          [
           "lose"
          ],
          [
           "make"
          ],
          [
           "play"
          ],
          [
           "put"
          ],
          [
           "repeat"
          ],
          [
           "say"
          ],
          [
           "score"
          ],
          [
           "see"
          ],
          [
           "set"
          ],
          [
           "start"
          ],
          [
           "take"
          ],
          [
           "win"
          ]
         ],
         "domain": {
          "x": [
           0,
           1
          ],
          "y": [
           0,
           1
          ]
         },
         "hovertemplate": "labels=%{label}<br>count=%{value}<br>parent=%{parent}<br>id=%{id}<br>verb=%{customdata[0]}<extra></extra>",
         "ids": [
          "get/something",
          "make/way",
          "make/sense",
          "find/space",
          "give/continuity",
          "get/crosses",
          "create/danger",
          "leave/defender",
          "take/part",
          "give/minutes",
          "make/mistakes",
          "play/today",
          "lose/possession",
          "take/place",
          "score/goals",
          "win/goal",
          "change/direction",
          "get/goals",
          "attack/players",
          "put/pressure",
          "score/today",
          "score/plenty",
          "say/goodbye",
          "give/instructions",
          "start/line-up",
          "keep/possession",
          "make/things",
          "get/plenty",
          "take/advantage",
          "take/care",
          "see/anything",
          "repeat/action",
          "set/pieces",
          "attack",
          "change",
          "create",
          "find",
          "get",
          "give",
          "keep",
          "leave",
          "lose",
          "make",
          "play",
          "put",
          "repeat",
          "say",
          "score",
          "see",
          "set",
          "start",
          "take",
          "win"
         ],
         "labels": [
          "something",
          "way",
          "sense",
          "space",
          "continuity",
          "crosses",
          "danger",
          "defender",
          "part",
          "minutes",
          "mistakes",
          "today",
          "possession",
          "place",
          "goals",
          "goal",
          "direction",
          "goals",
          "players",
          "pressure",
          "today",
          "plenty",
          "goodbye",
          "instructions",
          "line-up",
          "possession",
          "things",
          "plenty",
          "advantage",
          "care",
          "anything",
          "action",
          "pieces",
          "attack",
          "change",
          "create",
          "find",
          "get",
          "give",
          "keep",
          "leave",
          "lose",
          "make",
          "play",
          "put",
          "repeat",
          "say",
          "score",
          "see",
          "set",
          "start",
          "take",
          "win"
         ],
         "marker": {
          "colors": [
           "#636efa",
           "#EF553B",
           "#EF553B",
           "#00cc96",
           "#ab63fa",
           "#636efa",
           "#FFA15A",
           "#19d3f3",
           "#FF6692",
           "#ab63fa",
           "#EF553B",
           "#B6E880",
           "#FF97FF",
           "#FF6692",
           "#FECB52",
           "#636efa",
           "#EF553B",
           "#636efa",
           "#00cc96",
           "#ab63fa",
           "#FECB52",
           "#FECB52",
           "#FFA15A",
           "#ab63fa",
           "#19d3f3",
           "#FF6692",
           "#EF553B",
           "#636efa",
           "#FF6692",
           "#FF6692",
           "#B6E880",
           "#FF97FF",
           "#FECB52",
           "#00cc96",
           "#EF553B",
           "#FFA15A",
           "#00cc96",
           "#636efa",
           "#ab63fa",
           "#FF6692",
           "#19d3f3",
           "#FF97FF",
           "#EF553B",
           "#B6E880",
           "#ab63fa",
           "#FF97FF",
           "#FFA15A",
           "#FECB52",
           "#B6E880",
           "#FECB52",
           "#19d3f3",
           "#FF6692",
           "#636efa"
          ]
         },
         "name": "",
         "parents": [
          "get",
          "make",
          "make",
          "find",
          "give",
          "get",
          "create",
          "leave",
          "take",
          "give",
          "make",
          "play",
          "lose",
          "take",
          "score",
          "win",
          "change",
          "get",
          "attack",
          "put",
          "score",
          "score",
          "say",
          "give",
          "start",
          "keep",
          "make",
          "get",
          "take",
          "take",
          "see",
          "repeat",
          "set",
          "",
          "",
          "",
          "",
          "",
          "",
          "",
          "",
          "",
          "",
          "",
          "",
          "",
          "",
          "",
          "",
          "",
          "",
          "",
          ""
         ],
         "type": "sunburst",
         "values": [
          28,
          14,
          7,
          18,
          7,
          8,
          11,
          7,
          14,
          6,
          15,
          9,
          13,
          26,
          58,
          17,
          7,
          10,
          7,
          29,
          13,
          4,
          24,
          13,
          18,
          10,
          8,
          12,
          187,
          28,
          16,
          27,
          27,
          7,
          7,
          11,
          18,
          58,
          26,
          10,
          7,
          13,
          44,
          9,
          29,
          27,
          24,
          75,
          16,
          27,
          18,
          255,
          17
         ]
        }
       ],
       "layout": {
        "legend": {
         "tracegroupgap": 0
        },
        "template": {
         "data": {
          "bar": [
           {
            "error_x": {
             "color": "#2a3f5f"
            },
            "error_y": {
             "color": "#2a3f5f"
            },
            "marker": {
             "line": {
              "color": "#E5ECF6",
              "width": 0.5
             },
             "pattern": {
              "fillmode": "overlay",
              "size": 10,
              "solidity": 0.2
             }
            },
            "type": "bar"
           }
          ],
          "barpolar": [
           {
            "marker": {
             "line": {
              "color": "#E5ECF6",
              "width": 0.5
             },
             "pattern": {
              "fillmode": "overlay",
              "size": 10,
              "solidity": 0.2
             }
            },
            "type": "barpolar"
           }
          ],
          "carpet": [
           {
            "aaxis": {
             "endlinecolor": "#2a3f5f",
             "gridcolor": "white",
             "linecolor": "white",
             "minorgridcolor": "white",
             "startlinecolor": "#2a3f5f"
            },
            "baxis": {
             "endlinecolor": "#2a3f5f",
             "gridcolor": "white",
             "linecolor": "white",
             "minorgridcolor": "white",
             "startlinecolor": "#2a3f5f"
            },
            "type": "carpet"
           }
          ],
          "choropleth": [
           {
            "colorbar": {
             "outlinewidth": 0,
             "ticks": ""
            },
            "type": "choropleth"
           }
          ],
          "contour": [
           {
            "colorbar": {
             "outlinewidth": 0,
             "ticks": ""
            },
            "colorscale": [
             [
              0,
              "#0d0887"
             ],
             [
              0.1111111111111111,
              "#46039f"
             ],
             [
              0.2222222222222222,
              "#7201a8"
             ],
             [
              0.3333333333333333,
              "#9c179e"
             ],
             [
              0.4444444444444444,
              "#bd3786"
             ],
             [
              0.5555555555555556,
              "#d8576b"
             ],
             [
              0.6666666666666666,
              "#ed7953"
             ],
             [
              0.7777777777777778,
              "#fb9f3a"
             ],
             [
              0.8888888888888888,
              "#fdca26"
             ],
             [
              1,
              "#f0f921"
             ]
            ],
            "type": "contour"
           }
          ],
          "contourcarpet": [
           {
            "colorbar": {
             "outlinewidth": 0,
             "ticks": ""
            },
            "type": "contourcarpet"
           }
          ],
          "heatmap": [
           {
            "colorbar": {
             "outlinewidth": 0,
             "ticks": ""
            },
            "colorscale": [
             [
              0,
              "#0d0887"
             ],
             [
              0.1111111111111111,
              "#46039f"
             ],
             [
              0.2222222222222222,
              "#7201a8"
             ],
             [
              0.3333333333333333,
              "#9c179e"
             ],
             [
              0.4444444444444444,
              "#bd3786"
             ],
             [
              0.5555555555555556,
              "#d8576b"
             ],
             [
              0.6666666666666666,
              "#ed7953"
             ],
             [
              0.7777777777777778,
              "#fb9f3a"
             ],
             [
              0.8888888888888888,
              "#fdca26"
             ],
             [
              1,
              "#f0f921"
             ]
            ],
            "type": "heatmap"
           }
          ],
          "heatmapgl": [
           {
            "colorbar": {
             "outlinewidth": 0,
             "ticks": ""
            },
            "colorscale": [
             [
              0,
              "#0d0887"
             ],
             [
              0.1111111111111111,
              "#46039f"
             ],
             [
              0.2222222222222222,
              "#7201a8"
             ],
             [
              0.3333333333333333,
              "#9c179e"
             ],
             [
              0.4444444444444444,
              "#bd3786"
             ],
             [
              0.5555555555555556,
              "#d8576b"
             ],
             [
              0.6666666666666666,
              "#ed7953"
             ],
             [
              0.7777777777777778,
              "#fb9f3a"
             ],
             [
              0.8888888888888888,
              "#fdca26"
             ],
             [
              1,
              "#f0f921"
             ]
            ],
            "type": "heatmapgl"
           }
          ],
          "histogram": [
           {
            "marker": {
             "pattern": {
              "fillmode": "overlay",
              "size": 10,
              "solidity": 0.2
             }
            },
            "type": "histogram"
           }
          ],
          "histogram2d": [
           {
            "colorbar": {
             "outlinewidth": 0,
             "ticks": ""
            },
            "colorscale": [
             [
              0,
              "#0d0887"
             ],
             [
              0.1111111111111111,
              "#46039f"
             ],
             [
              0.2222222222222222,
              "#7201a8"
             ],
             [
              0.3333333333333333,
              "#9c179e"
             ],
             [
              0.4444444444444444,
              "#bd3786"
             ],
             [
              0.5555555555555556,
              "#d8576b"
             ],
             [
              0.6666666666666666,
              "#ed7953"
             ],
             [
              0.7777777777777778,
              "#fb9f3a"
             ],
             [
              0.8888888888888888,
              "#fdca26"
             ],
             [
              1,
              "#f0f921"
             ]
            ],
            "type": "histogram2d"
           }
          ],
          "histogram2dcontour": [
           {
            "colorbar": {
             "outlinewidth": 0,
             "ticks": ""
            },
            "colorscale": [
             [
              0,
              "#0d0887"
             ],
             [
              0.1111111111111111,
              "#46039f"
             ],
             [
              0.2222222222222222,
              "#7201a8"
             ],
             [
              0.3333333333333333,
              "#9c179e"
             ],
             [
              0.4444444444444444,
              "#bd3786"
             ],
             [
              0.5555555555555556,
              "#d8576b"
             ],
             [
              0.6666666666666666,
              "#ed7953"
             ],
             [
              0.7777777777777778,
              "#fb9f3a"
             ],
             [
              0.8888888888888888,
              "#fdca26"
             ],
             [
              1,
              "#f0f921"
             ]
            ],
            "type": "histogram2dcontour"
           }
          ],
          "mesh3d": [
           {
            "colorbar": {
             "outlinewidth": 0,
             "ticks": ""
            },
            "type": "mesh3d"
           }
          ],
          "parcoords": [
           {
            "line": {
             "colorbar": {
              "outlinewidth": 0,
              "ticks": ""
             }
            },
            "type": "parcoords"
           }
          ],
          "pie": [
           {
            "automargin": true,
            "type": "pie"
           }
          ],
          "scatter": [
           {
            "fillpattern": {
             "fillmode": "overlay",
             "size": 10,
             "solidity": 0.2
            },
            "type": "scatter"
           }
          ],
          "scatter3d": [
           {
            "line": {
             "colorbar": {
              "outlinewidth": 0,
              "ticks": ""
             }
            },
            "marker": {
             "colorbar": {
              "outlinewidth": 0,
              "ticks": ""
             }
            },
            "type": "scatter3d"
           }
          ],
          "scattercarpet": [
           {
            "marker": {
             "colorbar": {
              "outlinewidth": 0,
              "ticks": ""
             }
            },
            "type": "scattercarpet"
           }
          ],
          "scattergeo": [
           {
            "marker": {
             "colorbar": {
              "outlinewidth": 0,
              "ticks": ""
             }
            },
            "type": "scattergeo"
           }
          ],
          "scattergl": [
           {
            "marker": {
             "colorbar": {
              "outlinewidth": 0,
              "ticks": ""
             }
            },
            "type": "scattergl"
           }
          ],
          "scattermapbox": [
           {
            "marker": {
             "colorbar": {
              "outlinewidth": 0,
              "ticks": ""
             }
            },
            "type": "scattermapbox"
           }
          ],
          "scatterpolar": [
           {
            "marker": {
             "colorbar": {
              "outlinewidth": 0,
              "ticks": ""
             }
            },
            "type": "scatterpolar"
           }
          ],
          "scatterpolargl": [
           {
            "marker": {
             "colorbar": {
              "outlinewidth": 0,
              "ticks": ""
             }
            },
            "type": "scatterpolargl"
           }
          ],
          "scatterternary": [
           {
            "marker": {
             "colorbar": {
              "outlinewidth": 0,
              "ticks": ""
             }
            },
            "type": "scatterternary"
           }
          ],
          "surface": [
           {
            "colorbar": {
             "outlinewidth": 0,
             "ticks": ""
            },
            "colorscale": [
             [
              0,
              "#0d0887"
             ],
             [
              0.1111111111111111,
              "#46039f"
             ],
             [
              0.2222222222222222,
              "#7201a8"
             ],
             [
              0.3333333333333333,
              "#9c179e"
             ],
             [
              0.4444444444444444,
              "#bd3786"
             ],
             [
              0.5555555555555556,
              "#d8576b"
             ],
             [
              0.6666666666666666,
              "#ed7953"
             ],
             [
              0.7777777777777778,
              "#fb9f3a"
             ],
             [
              0.8888888888888888,
              "#fdca26"
             ],
             [
              1,
              "#f0f921"
             ]
            ],
            "type": "surface"
           }
          ],
          "table": [
           {
            "cells": {
             "fill": {
              "color": "#EBF0F8"
             },
             "line": {
              "color": "white"
             }
            },
            "header": {
             "fill": {
              "color": "#C8D4E3"
             },
             "line": {
              "color": "white"
             }
            },
            "type": "table"
           }
          ]
         },
         "layout": {
          "annotationdefaults": {
           "arrowcolor": "#2a3f5f",
           "arrowhead": 0,
           "arrowwidth": 1
          },
          "autotypenumbers": "strict",
          "coloraxis": {
           "colorbar": {
            "outlinewidth": 0,
            "ticks": ""
           }
          },
          "colorscale": {
           "diverging": [
            [
             0,
             "#8e0152"
            ],
            [
             0.1,
             "#c51b7d"
            ],
            [
             0.2,
             "#de77ae"
            ],
            [
             0.3,
             "#f1b6da"
            ],
            [
             0.4,
             "#fde0ef"
            ],
            [
             0.5,
             "#f7f7f7"
            ],
            [
             0.6,
             "#e6f5d0"
            ],
            [
             0.7,
             "#b8e186"
            ],
            [
             0.8,
             "#7fbc41"
            ],
            [
             0.9,
             "#4d9221"
            ],
            [
             1,
             "#276419"
            ]
           ],
           "sequential": [
            [
             0,
             "#0d0887"
            ],
            [
             0.1111111111111111,
             "#46039f"
            ],
            [
             0.2222222222222222,
             "#7201a8"
            ],
            [
             0.3333333333333333,
             "#9c179e"
            ],
            [
             0.4444444444444444,
             "#bd3786"
            ],
            [
             0.5555555555555556,
             "#d8576b"
            ],
            [
             0.6666666666666666,
             "#ed7953"
            ],
            [
             0.7777777777777778,
             "#fb9f3a"
            ],
            [
             0.8888888888888888,
             "#fdca26"
            ],
            [
             1,
             "#f0f921"
            ]
           ],
           "sequentialminus": [
            [
             0,
             "#0d0887"
            ],
            [
             0.1111111111111111,
             "#46039f"
            ],
            [
             0.2222222222222222,
             "#7201a8"
            ],
            [
             0.3333333333333333,
             "#9c179e"
            ],
            [
             0.4444444444444444,
             "#bd3786"
            ],
            [
             0.5555555555555556,
             "#d8576b"
            ],
            [
             0.6666666666666666,
             "#ed7953"
            ],
            [
             0.7777777777777778,
             "#fb9f3a"
            ],
            [
             0.8888888888888888,
             "#fdca26"
            ],
            [
             1,
             "#f0f921"
            ]
           ]
          },
          "colorway": [
           "#636efa",
           "#EF553B",
           "#00cc96",
           "#ab63fa",
           "#FFA15A",
           "#19d3f3",
           "#FF6692",
           "#B6E880",
           "#FF97FF",
           "#FECB52"
          ],
          "font": {
           "color": "#2a3f5f"
          },
          "geo": {
           "bgcolor": "white",
           "lakecolor": "white",
           "landcolor": "#E5ECF6",
           "showlakes": true,
           "showland": true,
           "subunitcolor": "white"
          },
          "hoverlabel": {
           "align": "left"
          },
          "hovermode": "closest",
          "mapbox": {
           "style": "light"
          },
          "paper_bgcolor": "white",
          "plot_bgcolor": "#E5ECF6",
          "polar": {
           "angularaxis": {
            "gridcolor": "white",
            "linecolor": "white",
            "ticks": ""
           },
           "bgcolor": "#E5ECF6",
           "radialaxis": {
            "gridcolor": "white",
            "linecolor": "white",
            "ticks": ""
           }
          },
          "scene": {
           "xaxis": {
            "backgroundcolor": "#E5ECF6",
            "gridcolor": "white",
            "gridwidth": 2,
            "linecolor": "white",
            "showbackground": true,
            "ticks": "",
            "zerolinecolor": "white"
           },
           "yaxis": {
            "backgroundcolor": "#E5ECF6",
            "gridcolor": "white",
            "gridwidth": 2,
            "linecolor": "white",
            "showbackground": true,
            "ticks": "",
            "zerolinecolor": "white"
           },
           "zaxis": {
            "backgroundcolor": "#E5ECF6",
            "gridcolor": "white",
            "gridwidth": 2,
            "linecolor": "white",
            "showbackground": true,
            "ticks": "",
            "zerolinecolor": "white"
           }
          },
          "shapedefaults": {
           "line": {
            "color": "#2a3f5f"
           }
          },
          "ternary": {
           "aaxis": {
            "gridcolor": "white",
            "linecolor": "white",
            "ticks": ""
           },
           "baxis": {
            "gridcolor": "white",
            "linecolor": "white",
            "ticks": ""
           },
           "bgcolor": "#E5ECF6",
           "caxis": {
            "gridcolor": "white",
            "linecolor": "white",
            "ticks": ""
           }
          },
          "title": {
           "x": 0.05
          },
          "xaxis": {
           "automargin": true,
           "gridcolor": "white",
           "linecolor": "white",
           "ticks": "",
           "title": {
            "standoff": 15
           },
           "zerolinecolor": "white",
           "zerolinewidth": 2
          },
          "yaxis": {
           "automargin": true,
           "gridcolor": "white",
           "linecolor": "white",
           "ticks": "",
           "title": {
            "standoff": 15
           },
           "zerolinecolor": "white",
           "zerolinewidth": 2
          }
         }
        },
        "title": {
         "text": "Verb-Noun 共起関係"
        }
       }
      }
     },
     "metadata": {},
     "output_type": "display_data"
    }
   ],
   "source": [
    "plot_vn_ratio(scbi_df, only_bi=True)"
   ]
  },
  {
   "cell_type": "code",
   "execution_count": null,
   "metadata": {},
   "outputs": [],
   "source": [
    "# TODO\n",
    "# scbiをリッチにする\n"
   ]
  }
 ],
 "metadata": {
  "kernelspec": {
   "display_name": ".venv",
   "language": "python",
   "name": "python3"
  },
  "language_info": {
   "codemirror_mode": {
    "name": "ipython",
    "version": 3
   },
   "file_extension": ".py",
   "mimetype": "text/x-python",
   "name": "python",
   "nbconvert_exporter": "python",
   "pygments_lexer": "ipython3",
   "version": "3.11.3"
  }
 },
 "nbformat": 4,
 "nbformat_minor": 2
}
