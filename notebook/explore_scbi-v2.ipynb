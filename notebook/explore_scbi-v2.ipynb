{
 "cells": [
  {
   "cell_type": "code",
   "execution_count": 1,
   "metadata": {},
   "outputs": [
    {
     "name": "stdout",
     "output_type": "stream",
     "text": [
      "/Users/heste/workspace/soccernet/sn-script\n"
     ]
    },
    {
     "data": {
      "text/plain": [
       "'/Users/heste/workspace/soccernet/sn-script'"
      ]
     },
     "execution_count": 1,
     "metadata": {},
     "output_type": "execute_result"
    }
   ],
   "source": [
    "# move to project root\n",
    "%cd ..\n",
    "%pwd"
   ]
  },
  {
   "cell_type": "code",
   "execution_count": 13,
   "metadata": {},
   "outputs": [],
   "source": [
    "import os\n",
    "\n",
    "import pandas as pd\n",
    "import numpy as np\n",
    "from dataclasses import dataclass\n",
    "from pathlib import Path\n",
    "\n",
    "from sn_script.config import binary_category_name\n",
    "from sn_script.csv_utils import gametime_to_seconds, seconds_to_gametime"
   ]
  },
  {
   "cell_type": "code",
   "execution_count": 3,
   "metadata": {},
   "outputs": [],
   "source": [
    "@dataclass\n",
    "class Config:\n",
    "    csv_path = Path('database/stable/scbi-v2.csv')"
   ]
  },
  {
   "cell_type": "code",
   "execution_count": 4,
   "metadata": {},
   "outputs": [],
   "source": [
    "scbi_df = pd.read_csv(Config.csv_path)"
   ]
  },
  {
   "cell_type": "code",
   "execution_count": 5,
   "metadata": {},
   "outputs": [
    {
     "data": {
      "text/plain": [
       "Index(['id', 'game', 'half', 'start', 'end', 'text', '小分類', '備考', '付加的情報か'], dtype='object')"
      ]
     },
     "execution_count": 5,
     "metadata": {},
     "output_type": "execute_result"
    }
   ],
   "source": [
    "scbi_df.columns"
   ]
  },
  {
   "cell_type": "code",
   "execution_count": 15,
   "metadata": {},
   "outputs": [
    {
     "data": {
      "text/html": [
       "<div>\n",
       "<style scoped>\n",
       "    .dataframe tbody tr th:only-of-type {\n",
       "        vertical-align: middle;\n",
       "    }\n",
       "\n",
       "    .dataframe tbody tr th {\n",
       "        vertical-align: top;\n",
       "    }\n",
       "\n",
       "    .dataframe thead th {\n",
       "        text-align: right;\n",
       "    }\n",
       "</style>\n",
       "<table border=\"1\" class=\"dataframe\">\n",
       "  <thead>\n",
       "    <tr style=\"text-align: right;\">\n",
       "      <th></th>\n",
       "      <th>start</th>\n",
       "      <th>end</th>\n",
       "      <th>text</th>\n",
       "      <th>付加的情報か</th>\n",
       "    </tr>\n",
       "  </thead>\n",
       "  <tbody>\n",
       "    <tr>\n",
       "      <th>7810</th>\n",
       "      <td>0.89</td>\n",
       "      <td>7.84</td>\n",
       "      <td>Chelsea won this fixture 1-0 at Stamford Bridg...</td>\n",
       "      <td>1</td>\n",
       "    </tr>\n",
       "    <tr>\n",
       "      <th>7811</th>\n",
       "      <td>9.82</td>\n",
       "      <td>13.70</td>\n",
       "      <td>Jose Mourinho's team had arguably done their b...</td>\n",
       "      <td>1</td>\n",
       "    </tr>\n",
       "    <tr>\n",
       "      <th>7812</th>\n",
       "      <td>14.90</td>\n",
       "      <td>19.73</td>\n",
       "      <td>A 14-game unbeaten run which took them six poi...</td>\n",
       "      <td>1</td>\n",
       "    </tr>\n",
       "    <tr>\n",
       "      <th>7813</th>\n",
       "      <td>24.60</td>\n",
       "      <td>30.18</td>\n",
       "      <td>he's punching Zaha now to provide the width</td>\n",
       "      <td>0</td>\n",
       "    </tr>\n",
       "    <tr>\n",
       "      <th>7814</th>\n",
       "      <td>31.82</td>\n",
       "      <td>32.90</td>\n",
       "      <td>Put behind by Ivanovic.</td>\n",
       "      <td>0</td>\n",
       "    </tr>\n",
       "    <tr>\n",
       "      <th>7815</th>\n",
       "      <td>33.00</td>\n",
       "      <td>35.76</td>\n",
       "      <td>It is a first-minute corner for Crystal Palace.</td>\n",
       "      <td>1</td>\n",
       "    </tr>\n",
       "    <tr>\n",
       "      <th>7816</th>\n",
       "      <td>36.46</td>\n",
       "      <td>39.70</td>\n",
       "      <td>He had a chat with Alan Poggi down in the medi...</td>\n",
       "      <td>0</td>\n",
       "    </tr>\n",
       "    <tr>\n",
       "      <th>7817</th>\n",
       "      <td>39.74</td>\n",
       "      <td>41.42</td>\n",
       "      <td>He said they were going to take the game to Ch...</td>\n",
       "      <td>0</td>\n",
       "    </tr>\n",
       "    <tr>\n",
       "      <th>7818</th>\n",
       "      <td>41.46</td>\n",
       "      <td>42.24</td>\n",
       "      <td>Hope they do, Tony.</td>\n",
       "      <td>0</td>\n",
       "    </tr>\n",
       "    <tr>\n",
       "      <th>7819</th>\n",
       "      <td>42.32</td>\n",
       "      <td>44.70</td>\n",
       "      <td>It will prove to be a good one.</td>\n",
       "      <td>0</td>\n",
       "    </tr>\n",
       "    <tr>\n",
       "      <th>7820</th>\n",
       "      <td>44.78</td>\n",
       "      <td>47.05</td>\n",
       "      <td>Palace fear no-one at the moment.</td>\n",
       "      <td>0</td>\n",
       "    </tr>\n",
       "    <tr>\n",
       "      <th>7821</th>\n",
       "      <td>47.93</td>\n",
       "      <td>51.11</td>\n",
       "      <td>And Chelsea, well, they need to pick it up, ob...</td>\n",
       "      <td>0</td>\n",
       "    </tr>\n",
       "    <tr>\n",
       "      <th>7822</th>\n",
       "      <td>54.96</td>\n",
       "      <td>71.87</td>\n",
       "      <td>Conor Wickham poised on the edge of the penalt...</td>\n",
       "      <td>1</td>\n",
       "    </tr>\n",
       "    <tr>\n",
       "      <th>7823</th>\n",
       "      <td>72.78</td>\n",
       "      <td>74.90</td>\n",
       "      <td>who scored against Aston Villa last weekend.</td>\n",
       "      <td>1</td>\n",
       "    </tr>\n",
       "    <tr>\n",
       "      <th>7824</th>\n",
       "      <td>78.26</td>\n",
       "      <td>82.69</td>\n",
       "      <td>Kehl with Delaney for company, almost on the t...</td>\n",
       "      <td>0</td>\n",
       "    </tr>\n",
       "    <tr>\n",
       "      <th>7825</th>\n",
       "      <td>86.23</td>\n",
       "      <td>87.01</td>\n",
       "      <td>In by Punchett.</td>\n",
       "      <td>0</td>\n",
       "    </tr>\n",
       "    <tr>\n",
       "      <th>7826</th>\n",
       "      <td>88.30</td>\n",
       "      <td>89.12</td>\n",
       "      <td>Now by Ivanovic.</td>\n",
       "      <td>0</td>\n",
       "    </tr>\n",
       "    <tr>\n",
       "      <th>7827</th>\n",
       "      <td>91.41</td>\n",
       "      <td>92.49</td>\n",
       "      <td>Ficked up by Suada.</td>\n",
       "      <td>0</td>\n",
       "    </tr>\n",
       "    <tr>\n",
       "      <th>7828</th>\n",
       "      <td>95.40</td>\n",
       "      <td>97.01</td>\n",
       "      <td>Finishing coming back from an offside position.</td>\n",
       "      <td>0</td>\n",
       "    </tr>\n",
       "    <tr>\n",
       "      <th>7829</th>\n",
       "      <td>98.00</td>\n",
       "      <td>117.23</td>\n",
       "      <td>just what you want as well on the wayside tony...</td>\n",
       "      <td>0</td>\n",
       "    </tr>\n",
       "  </tbody>\n",
       "</table>\n",
       "</div>"
      ],
      "text/plain": [
       "      start     end                                               text  付加的情報か\n",
       "7810   0.89    7.84  Chelsea won this fixture 1-0 at Stamford Bridg...       1\n",
       "7811   9.82   13.70  Jose Mourinho's team had arguably done their b...       1\n",
       "7812  14.90   19.73  A 14-game unbeaten run which took them six poi...       1\n",
       "7813  24.60   30.18        he's punching Zaha now to provide the width       0\n",
       "7814  31.82   32.90                            Put behind by Ivanovic.       0\n",
       "7815  33.00   35.76    It is a first-minute corner for Crystal Palace.       1\n",
       "7816  36.46   39.70  He had a chat with Alan Poggi down in the medi...       0\n",
       "7817  39.74   41.42  He said they were going to take the game to Ch...       0\n",
       "7818  41.46   42.24                                Hope they do, Tony.       0\n",
       "7819  42.32   44.70                    It will prove to be a good one.       0\n",
       "7820  44.78   47.05                  Palace fear no-one at the moment.       0\n",
       "7821  47.93   51.11  And Chelsea, well, they need to pick it up, ob...       0\n",
       "7822  54.96   71.87  Conor Wickham poised on the edge of the penalt...       1\n",
       "7823  72.78   74.90       who scored against Aston Villa last weekend.       1\n",
       "7824  78.26   82.69  Kehl with Delaney for company, almost on the t...       0\n",
       "7825  86.23   87.01                                    In by Punchett.       0\n",
       "7826  88.30   89.12                                   Now by Ivanovic.       0\n",
       "7827  91.41   92.49                                Ficked up by Suada.       0\n",
       "7828  95.40   97.01    Finishing coming back from an offside position.       0\n",
       "7829  98.00  117.23  just what you want as well on the wayside tony...       0"
      ]
     },
     "execution_count": 15,
     "metadata": {},
     "output_type": "execute_result"
    }
   ],
   "source": [
    "# データの確認\n",
    "target_game = \"england_epl/2015-2016/2015-08-29 - 17-00 Chelsea 1 - 2 Crystal Palace\"\n",
    "\n",
    "scbi_df.loc[\n",
    "    scbi_df['game'] == target_game,\n",
    "    [ \"start\", \"end\", \"text\", binary_category_name]\n",
    "].head(20)"
   ]
  },
  {
   "cell_type": "code",
   "execution_count": 32,
   "metadata": {},
   "outputs": [
    {
     "name": "stdout",
     "output_type": "stream",
     "text": [
      "Number of games: 339\n",
      "Total duration: 1863010.56\n"
     ]
    }
   ],
   "source": [
    "# 映像の統計情報\n",
    "# 試合数\n",
    "n_games = scbi_df['game'].nunique()\n",
    "print(f\"Number of games: {n_games}\")\n",
    "# 総合時間\n",
    "group_per_video = scbi_df.groupby(['game', 'half'])\n",
    "durations = group_per_video['end'].max() - group_per_video['start'].min()\n",
    "durations.index = group_per_video['game'].first()\n",
    "total_duration = durations.sum()\n",
    "print(f\"Total duration: {total_duration}\")\n"
   ]
  },
  {
   "cell_type": "code",
   "execution_count": 24,
   "metadata": {},
   "outputs": [
    {
     "name": "stdout",
     "output_type": "stream",
     "text": [
      "Total # of utterances: 338026\n",
      "avg. # of utterances per game: 498.56\n",
      "avg. # of characters per utterance: 57.19\n",
      "avg. length of an utterance: 3.38\n",
      "avg. length of silence: 2.14\n"
     ]
    }
   ],
   "source": [
    "# コメントの統計情報\n",
    "# Total # of utterances\n",
    "total_num_utterances = scbi_df.shape[0]\n",
    "print(f\"Total # of utterances: {total_num_utterances}\")\n",
    "# avg. # of utterances video (game, half)\n",
    "avg_num_utterances_per_game = scbi_df.groupby(['game', 'half']).size().mean()\n",
    "print(f\"avg. # of utterances per game: {avg_num_utterances_per_game:.2f}\")\n",
    "# avg. # of characters per utterance\n",
    "avg_chars_per_utterance = scbi_df['text'].dropna().apply(len).mean()\n",
    "print(f\"avg. # of characters per utterance: {avg_chars_per_utterance:.2f}\")\n",
    "# avg. length of an utterance (sec)\n",
    "avg_chars_per_utterance = (scbi_df['end'] - scbi_df['start']).mean()\n",
    "print(f\"avg. length of an utterance: {avg_chars_per_utterance:.2f}\")\n",
    "# avg. length of silence (sec)\n",
    "scbi_df['prev_end'] = scbi_df['end'].shift(1)\n",
    "scbi_df['silence'] = (scbi_df['start'] - scbi_df['prev_end'])\n",
    "scbi_df.loc[scbi_df['silence'] < 0, 'silence'] = None\n",
    "silence_mean = scbi_df['silence'].mean(skipna=True)\n",
    "print(f\"avg. length of silence: {silence_mean:.2f}\")\n"
   ]
  },
  {
   "cell_type": "code",
   "execution_count": 14,
   "metadata": {},
   "outputs": [
    {
     "name": "stdout",
     "output_type": "stream",
     "text": [
      "付加的情報か\n",
      " 0    0.814582\n",
      " 1    0.185394\n",
      " 2    0.000018\n",
      "-1    0.000006\n",
      "Name: proportion, dtype: float64\n",
      "付加的情報か\n",
      " 0    275350\n",
      " 1     62668\n",
      " 2         6\n",
      "-1         2\n",
      "Name: count, dtype: int64\n"
     ]
    }
   ],
   "source": [
    "# 分析\n",
    "# 全体におけるラベルの割合\n",
    "print(scbi_df[binary_category_name].value_counts(normalize=True))\n",
    "# ラベルの数\n",
    "print(scbi_df[binary_category_name].value_counts())\n",
    "\n",
    "# 結果、付加的情報が18%あった\n",
    "# つまり、無視できない割合存在する"
   ]
  },
  {
   "cell_type": "code",
   "execution_count": null,
   "metadata": {},
   "outputs": [],
   "source": [
    "# 増加タイミングの分析1\n",
    "# 時間帯(5分でbinning)ごとのラベルの割合\n"
   ]
  },
  {
   "cell_type": "code",
   "execution_count": null,
   "metadata": {},
   "outputs": [],
   "source": [
    "# 増加タイミングの分析2\n",
    "# イベント周辺でのラベルの割合\n"
   ]
  },
  {
   "cell_type": "code",
   "execution_count": null,
   "metadata": {},
   "outputs": [],
   "source": [
    "# 増加タイミングの分析3\n",
    "# 沈黙時間とラベルの割合の関係\n"
   ]
  }
 ],
 "metadata": {
  "kernelspec": {
   "display_name": ".venv",
   "language": "python",
   "name": "python3"
  },
  "language_info": {
   "codemirror_mode": {
    "name": "ipython",
    "version": 3
   },
   "file_extension": ".py",
   "mimetype": "text/x-python",
   "name": "python",
   "nbconvert_exporter": "python",
   "pygments_lexer": "ipython3",
   "version": "3.11.3"
  }
 },
 "nbformat": 4,
 "nbformat_minor": 2
}
